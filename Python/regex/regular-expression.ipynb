{
 "cells": [
  {
   "cell_type": "code",
   "execution_count": 1,
   "metadata": {},
   "outputs": [],
   "source": [
    "import re"
   ]
  },
  {
   "cell_type": "code",
   "execution_count": 13,
   "metadata": {},
   "outputs": [],
   "source": [
    "text=\"welcome to python programming @12345\""
   ]
  },
  {
   "cell_type": "code",
   "execution_count": 21,
   "metadata": {},
   "outputs": [
    {
     "name": "stdout",
     "output_type": "stream",
     "text": [
      "0...1...ab\n",
      "3...4...ab\n",
      "5...6...ab\n",
      "The number of occurances: 3\n"
     ]
    }
   ],
   "source": [
    "text=\"abaababa\"\n",
    "count=0\n",
    "matcher=re.finditer(\"ab\",text)\n",
    "for match in matcher:\n",
    "    count+=1\n",
    "    print(f\"{match.start()}...{match.end()-1}...{match.group()}\")\n",
    "print(f\"The number of occurances: {count}\")"
   ]
  },
  {
   "cell_type": "code",
   "execution_count": 27,
   "metadata": {},
   "outputs": [
    {
     "name": "stdout",
     "output_type": "stream",
     "text": [
      "0...a\n",
      "2...b\n",
      "\n",
      "1...7\n",
      "3...@\n",
      "4...k\n",
      "5...9\n",
      "6...z\n",
      "\n",
      "0...a\n",
      "2...b\n",
      "4...k\n",
      "6...z\n",
      "\n",
      "1...7\n",
      "5...9\n",
      "\n",
      "0...a\n",
      "1...7\n",
      "2...b\n",
      "4...k\n",
      "5...9\n",
      "6...z\n",
      "\n",
      "3...@\n"
     ]
    }
   ],
   "source": [
    "text=\"a7b@k9z\"\n",
    "def character_classes(x):\n",
    "    matcher=re.finditer(x,text)\n",
    "    for match in matcher:\n",
    "        print(f\"{match.start()}...{match.group()}\")\n",
    "        \n",
    "character_classes(\"[abc]\")\n",
    "print()\n",
    "character_classes(\"[^abc]\")\n",
    "print()\n",
    "character_classes(\"[a-z]\")\n",
    "print()\n",
    "character_classes(\"[0-9]\")\n",
    "print()\n",
    "character_classes(\"[a-zA-Z0-9]\")\n",
    "print()\n",
    "character_classes(\"[^a-zA-Z0-9]\")"
   ]
  },
  {
   "cell_type": "code",
   "execution_count": null,
   "metadata": {},
   "outputs": [],
   "source": []
  }
 ],
 "metadata": {
  "kernelspec": {
   "display_name": "Python 3",
   "language": "python",
   "name": "python3"
  },
  "language_info": {
   "codemirror_mode": {
    "name": "ipython",
    "version": 3
   },
   "file_extension": ".py",
   "mimetype": "text/x-python",
   "name": "python",
   "nbconvert_exporter": "python",
   "pygments_lexer": "ipython3",
   "version": "3.10.13"
  }
 },
 "nbformat": 4,
 "nbformat_minor": 2
}
