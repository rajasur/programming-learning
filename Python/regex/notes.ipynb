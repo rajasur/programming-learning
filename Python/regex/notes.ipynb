{
 "cells": [
  {
   "cell_type": "markdown",
   "id": "f7f5a882",
   "metadata": {},
   "source": [
    "# Meta Characters in RegEx\n",
    "---\n",
    "\n",
    "| Meta Character | Description                                 | Example         | Matches                        |\n",
    "|:--------------:|:--------------------------------------------|:----------------|:-------------------------------|\n",
    "| .              | Any character except newline                | a.b             | 'acb', 'a1b', 'a b'            |\n",
    "| ^              | Start of string                             | ^abc            | 'abc' (at start of string)      |\n",
    "| $              | End of string                               | abc$            | 'xxabc' (at end of string)      |\n",
    "| *              | 0 or more repetitions                       | ab*c            | 'ac', 'abc', 'abbc', ...        |\n",
    "| +              | 1 or more repetitions                       | ab+c            | 'abc', 'abbc', ...              |\n",
    "| ?              | 0 or 1 repetition (optional)                | ab?c            | 'ac', 'abc'                     |\n",
    "| []             | Any one character in set                    | a[bc]d          | 'abd', 'acd'                    |\n",
    "| [^]            | Any one character not in set                | a[^bc]d         | 'aed', 'afd', ...               |\n",
    "| {}             | Exactly n, at least n, or between m and n   | a{2,4}          | 'aa', 'aaa', 'aaaa'             |\n",
    "| ()             | Group and capture                           | (abc)+          | 'abc', 'abcabc', ...            |\n",
    "| \\              | Escape special character                    | \\.              | '.'                             |\n",
    "| \\d             | Any digit (0-9)                             | \\d\\d            | '12', '34', ...                 |\n",
    "| \\D             | Any non-digit                               | \\D              | 'a', 'Z', ...                   |\n",
    "| \\w             | Any word character (alphanumeric or _)      | \\w              | 'a', '1', '_'                   |\n",
    "| \\W             | Any non-word character                      | \\W              | '!', ' ', ...                   |\n",
    "| \\s             | Any whitespace character                    | \\s              | ' ', '\\t', '\\n'                 |\n",
    "| \\S             | Any non-whitespace character                | \\S              | 'a', '1', '!'                   |\n",
    "| \\b             | Word boundary                               | \\bword\\b        | 'word' (as a whole word)        |\n",
    "| \\B             | Not a word boundary                         | \\Bend           | 'bend', 'tend', ...             |\n"
   ]
  },
  {
   "cell_type": "markdown",
   "id": "13de16fb",
   "metadata": {},
   "source": [
    "# Functions in RegEx\n",
    "---\n",
    "\n",
    "| Function | Description | Example | Output |\n",
    "|:---------|:------------|:--------|:-------|\n",
    "| `re.search()` | Finds the first match of pattern in string | `re.search(r'\\d+', 'abc123def')` | Match object or None |\n",
    "| `re.match()` | Matches pattern at the beginning of string | `re.match(r'abc', 'abc123')` | Match object or None |\n",
    "| `re.findall()` | Returns all non-overlapping matches as a list | `re.findall(r'\\d+', 'a1b2c3')` | ['1', '2', '3'] |\n",
    "| `re.finditer()` | Returns an iterator of match objects | `re.finditer(r'\\d+', 'a1b2c3')` | Iterator of match objects |\n",
    "| `re.sub()` | Replaces matches with a replacement string | `re.sub(r'\\d+', 'X', 'a1b2c3')` | 'aXbXcX' |\n",
    "| `re.subn()` | Like sub() but returns tuple (new_string, count) | `re.subn(r'\\d+', 'X', 'a1b2c3')` | ('aXbXcX', 3) |\n",
    "| `re.split()` | Splits string by pattern matches | `re.split(r'\\d+', 'a1b2c3')` | ['a', 'b', 'c', ''] |\n",
    "| `re.compile()` | Compiles pattern for reuse | `pattern = re.compile(r'\\d+')` | Compiled pattern object |\n",
    "\n",
    "## Match Object Methods\n",
    "| Method | Description | Example |\n",
    "|:-------|:------------|:--------|\n",
    "| `.group()` | Returns the matched string | `match.group()` |\n",
    "| `.start()` | Returns start position of match | `match.start()` |\n",
    "| `.end()` | Returns end position of match | `match.end()` |\n",
    "| `.span()` | Returns tuple (start, end) | `match.span()` |"
   ]
  },
  {
   "cell_type": "code",
   "execution_count": null,
   "id": "bdbda0cb",
   "metadata": {},
   "outputs": [],
   "source": []
  },
  {
   "cell_type": "code",
   "execution_count": 2,
   "id": "8a27d36a",
   "metadata": {},
   "outputs": [
    {
     "name": "stdout",
     "output_type": "stream",
     "text": [
      "<re.Match object; span=(15, 16), match='.'>\n"
     ]
    }
   ],
   "source": [
    "import re\n",
    "\n",
    "email = \"example@example.com\"\n",
    "\n",
    "pattern = r\"\\.\"\n",
    "match = re.search(pattern, email)\n",
    "print(match)"
   ]
  },
  {
   "cell_type": "code",
   "execution_count": 6,
   "id": "7c40e6a4",
   "metadata": {},
   "outputs": [
    {
     "name": "stdout",
     "output_type": "stream",
     "text": [
      "exampleexamplecom\n"
     ]
    }
   ],
   "source": [
    "import re\n",
    "\n",
    "email = \"example@example.com\"\n",
    "\n",
    "pattern = r\"[a-zA-Z0-9]\"\n",
    "match = re.findall(pattern, email)\n",
    "print(''.join(match))"
   ]
  },
  {
   "cell_type": "code",
   "execution_count": null,
   "id": "764b5bc0",
   "metadata": {},
   "outputs": [],
   "source": []
  }
 ],
 "metadata": {
  "kernelspec": {
   "display_name": ".venv",
   "language": "python",
   "name": "python3"
  },
  "language_info": {
   "codemirror_mode": {
    "name": "ipython",
    "version": 3
   },
   "file_extension": ".py",
   "mimetype": "text/x-python",
   "name": "python",
   "nbconvert_exporter": "python",
   "pygments_lexer": "ipython3",
   "version": "3.13.7"
  }
 },
 "nbformat": 4,
 "nbformat_minor": 5
}
