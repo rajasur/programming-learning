{
 "cells": [
  {
   "cell_type": "markdown",
   "id": "b35df21b",
   "metadata": {},
   "source": [
    "# Multitasking\n",
    "\n",
    "Multitasking refers to executing multiple tasks at the same time.\n",
    "\n",
    "## Types of Multitasking\n",
    "\n",
    "- **Process-based Multitasking**\n",
    "- **Thread-based Multitasking**\n",
    "\n",
    "---\n",
    "\n",
    "## Process-based Multitasking\n",
    "\n",
    "Process-based multitasking is the execution of multiple tasks simultaneously, where each task is a separate, independent program (process). This type of multitasking is suitable at the operating system level.\n",
    "\n",
    "**Real-world Example:**  \n",
    "Different applications running on your system, such as Notepad, Calculator, or Word. Each task (process) is separate from the others, and they do not have internal relationships.\n",
    "\n",
    "---\n",
    "\n",
    "## Thread-based Multitasking\n",
    "\n",
    "Thread-based multitasking is the execution of multiple tasks simultaneously, where each task is a separate, independent part (thread) of the same program (process). This is suitable at the programmatic level.\n",
    "\n",
    "**Real-world Example:**  \n",
    "In a word processor, while you are typing, the program is also checking spelling in real time. Typing and spell-checking are handled by different threads within the same program."
   ]
  },
  {
   "cell_type": "markdown",
   "id": "6badb5b1",
   "metadata": {},
   "source": [
    "# Thread and Multithreading\n",
    "\n",
    "## Thread\n",
    "\n",
    "A **thread** is a separate flow of execution within a program. Each thread runs independently, allowing multiple operations to occur simultaneously within the same application. Every thread has its own task and can execute concurrently with other threads.\n",
    "\n",
    "## Multithreading\n",
    "\n",
    "**Multithreading** is the technique of using multiple threads within a single program or process. This allows for parallel execution of tasks, improving the efficiency and responsiveness of applications.\n",
    "\n",
    "### Key Application Areas of Multithreading\n",
    "\n",
    "- **Multimedia Graphics**\n",
    "- **Animations**\n",
    "- **Video Games**\n",
    "- **Web Servers**\n",
    "\n",
    "<img src=\"images/image.png\" alt=\"Multithreading Example\" width=\"400\" height=\"300\"/>\n",
    "\n",
    "*In the above diagram, the Bank represents a separate application, and each user is represented as a separate thread. Threads can operate independently. If threads are interdependent, one thread may need to wait until another completes its task before proceeding.*\n",
    "\n",
    "---\n",
    "\n",
    "## Advantages of Multithreading\n",
    "\n",
    "- **Improved Performance:** Tasks can be performed in parallel, making better use of CPU resources.\n",
    "- **Responsiveness:** Applications remain responsive to user input while performing background operations.\n",
    "- **Resource Sharing:** Threads within the same process share resources, making communication easier.\n",
    "\n",
    "## Disadvantages of Multithreading\n",
    "\n",
    "- **Complexity:** Writing and debugging multithreaded programs can be challenging.\n",
    "- **Synchronization Issues:** Threads may need to coordinate access to shared resources, leading to potential issues like deadlocks or race conditions.\n",
    "- **Overhead:** Creating and managing multiple threads can introduce overhead.\n",
    "\n",
    "---\n",
    "\n",
    "## Summary\n",
    "\n",
    "- A thread is an independent path of execution within a program.\n",
    "- Multithreading allows multiple threads to run concurrently, improving efficiency.\n",
    "- Proper synchronization is essential to avoid issues in multithreaded applications."
   ]
  },
  {
   "cell_type": "markdown",
   "id": "3349c365",
   "metadata": {},
   "source": [
    "# Main Thread\n",
    "- When we start any Python Program, One thread begins running immediately, which is called Main Thread of that program created by PVM.\n",
    "- The main thread is created automatically when your program is started.\n",
    "- "
   ]
  },
  {
   "cell_type": "code",
   "execution_count": 1,
   "id": "f30c63bb",
   "metadata": {},
   "outputs": [
    {
     "name": "stdout",
     "output_type": "stream",
     "text": [
      "MainThread\n"
     ]
    },
    {
     "name": "stderr",
     "output_type": "stream",
     "text": [
      "/var/folders/fj/x0gy2hjx4tg84dwj10nq2z2m0000gn/T/ipykernel_10304/4044443493.py:4: DeprecationWarning: getName() is deprecated, get the name attribute instead\n",
      "  t = current_thread().getName()\n"
     ]
    }
   ],
   "source": [
    "# Example to cheack current thread\n",
    "\n",
    "from threading import current_thread\n",
    "t = current_thread().getName()\n",
    "print(t)"
   ]
  },
  {
   "cell_type": "markdown",
   "id": "2dc18943",
   "metadata": {},
   "source": [
    "# Creating a Thread\n",
    "Creating a Thread without using Class\n",
    "- Thread class of threading module is used to create threads. To create our own thread we need to create an object of Thread Class.\n",
    "- Following are the ways of creating threads:-\n",
    "    - Creating a thread without using a class\n",
    "    - Creating a thread by creating a child class to Thread class\n",
    "    - Creating a thread without creating child class to Thread class"
   ]
  },
  {
   "cell_type": "code",
   "execution_count": null,
   "id": "5cac4a55",
   "metadata": {},
   "outputs": [
    {
     "name": "stdout",
     "output_type": "stream",
     "text": [
      "Thread Running: 1 2\n"
     ]
    }
   ],
   "source": [
    "# Creating a thread without using class\n",
    "\n",
    "from threading import Thread\n",
    "\n",
    "\n",
    "def display(a, b):\n",
    "    print(\"Thread Running:\", a, b)\n",
    "\n",
    "\n",
    "t = Thread(target=display, args=(1, 2))\n",
    "t.start()  # This is used to start the thread"
   ]
  },
  {
   "cell_type": "code",
   "execution_count": null,
   "id": "6b85a232",
   "metadata": {},
   "outputs": [
    {
     "name": "stdout",
     "output_type": "stream",
     "text": [
      "Child Thread\n",
      "Child Thread\n",
      "Child Thread\n",
      "Child Thread\n",
      "Child Thread\n",
      "Main Thread\n",
      "Main Thread\n",
      "Main Thread\n",
      "Main Thread\n",
      "Main Thread\n"
     ]
    }
   ],
   "source": [
    "from threading import Thread\n",
    "\n",
    "\n",
    "def display():\n",
    "    for i in range(5):\n",
    "        print(\"Child Thread\")\n",
    "\n",
    "\n",
    "t = Thread(target=display)\n",
    "t.start()\n",
    "\n",
    "for i in range(5):\n",
    "    print(\"Main Thread\")"
   ]
  },
  {
   "cell_type": "code",
   "execution_count": null,
   "id": "c6b6f556",
   "metadata": {},
   "outputs": [
    {
     "name": "stdout",
     "output_type": "stream",
     "text": [
      "Publish video CPublish video M\n",
      "Publish video M\n",
      "Publish video M\n",
      "Publish video M\n",
      "Publish video M\n",
      "\n",
      "Publish video C\n",
      "Publish video C\n",
      "Publish video C\n",
      "Publish video C\n"
     ]
    }
   ],
   "source": [
    "from threading import Thread\n",
    "\n",
    "\n",
    "def display():\n",
    "    for i in range(5):\n",
    "        print(\"Publish video C\")\n",
    "\n",
    "\n",
    "t = Thread(target=display)\n",
    "t.start()\n",
    "\n",
    "for i in range(5):\n",
    "    print(\"Publish video M\")"
   ]
  },
  {
   "cell_type": "markdown",
   "id": "5c58108b",
   "metadata": {},
   "source": [
    "# Set and Get Thread Name\n",
    "- **current_thread()** - This function return current thread object.\n",
    "- **getName()** - Every thread has a name by default, to get the name of thread we can use this method\n",
    "- **setName(name)** - This methos is used to set the name of thread.\n",
    "- **name Property** - This property is usd to get or set name of the thread."
   ]
  },
  {
   "cell_type": "code",
   "execution_count": null,
   "id": "497aa4cb",
   "metadata": {},
   "outputs": [
    {
     "name": "stdout",
     "output_type": "stream",
     "text": [
      "Child Thread ObjectMain Thread <_MainThread(MainThread, started 8652267712)>\n",
      " <Thread(Thread-93 (display), started 12952186880)>\n"
     ]
    }
   ],
   "source": [
    "from threading import Thread, current_thread\n",
    "\n",
    "\n",
    "def display():\n",
    "    print(\"Child Thread Object\", current_thread())\n",
    "\n",
    "\n",
    "t = Thread(target=display)\n",
    "t.start()\n",
    "\n",
    "print(\"Main Thread\", current_thread())"
   ]
  },
  {
   "cell_type": "code",
   "execution_count": null,
   "id": "1a8c7518",
   "metadata": {},
   "outputs": [
    {
     "name": "stdout",
     "output_type": "stream",
     "text": [
      "Main Thread Name:  MainThread\n",
      "Child Thread Name:  Thread-111 (display)\n"
     ]
    },
    {
     "name": "stderr",
     "output_type": "stream",
     "text": [
      "/var/folders/fj/x0gy2hjx4tg84dwj10nq2z2m0000gn/T/ipykernel_10304/1294965604.py:4: DeprecationWarning: getName() is deprecated, get the name attribute instead\n",
      "  print(\"Child Thread Name: \", current_thread().getName())\n",
      "/var/folders/fj/x0gy2hjx4tg84dwj10nq2z2m0000gn/T/ipykernel_10304/1294965604.py:10: DeprecationWarning: getName() is deprecated, get the name attribute instead\n",
      "  print(\"Main Thread Name: \", current_thread().getName())\n"
     ]
    }
   ],
   "source": [
    "from threading import Thread, current_thread\n",
    "\n",
    "\n",
    "def display():\n",
    "    print(\"Child Thread Name: \", current_thread().getName())\n",
    "\n",
    "\n",
    "t = Thread(target=display)\n",
    "t.start()\n",
    "\n",
    "print(\"Main Thread Name: \", current_thread().getName())"
   ]
  },
  {
   "cell_type": "code",
   "execution_count": 48,
   "id": "eb279bfe",
   "metadata": {},
   "outputs": [
    {
     "name": "stdout",
     "output_type": "stream",
     "text": [
      "Child Thread Name:  Thread-109 (display)\n",
      "Child Thread Name:  Thread-110 (display)\n",
      "Main Thread Name:  MainThread\n"
     ]
    },
    {
     "name": "stderr",
     "output_type": "stream",
     "text": [
      "/var/folders/fj/x0gy2hjx4tg84dwj10nq2z2m0000gn/T/ipykernel_10304/3436520330.py:4: DeprecationWarning: getName() is deprecated, get the name attribute instead\n",
      "  print(\"Child Thread Name: \", current_thread().getName())\n",
      "/var/folders/fj/x0gy2hjx4tg84dwj10nq2z2m0000gn/T/ipykernel_10304/3436520330.py:13: DeprecationWarning: getName() is deprecated, get the name attribute instead\n",
      "  print(\"Main Thread Name: \", current_thread().getName())\n"
     ]
    }
   ],
   "source": [
    "from threading import Thread, current_thread \n",
    "\n",
    "def display():\n",
    "    print(\"Child Thread Name: \", current_thread().getName())\n",
    "    \n",
    "    \n",
    "t1 = Thread(target=display)\n",
    "t2 = Thread(target=display)\n",
    "\n",
    "t1.start()\n",
    "t2.start()\n",
    "\n",
    "print(\"Main Thread Name: \", current_thread().getName())"
   ]
  },
  {
   "cell_type": "code",
   "execution_count": null,
   "id": "f2d7a813",
   "metadata": {},
   "outputs": [
    {
     "name": "stdout",
     "output_type": "stream",
     "text": [
      "Default Main Thread Name:  MainThread\n",
      "New Main Thread Name:  Raja Main Thread\n",
      "Default Child Thread Name:  Thread-122 (display)\n",
      "New Child Thread Name:  Doc Thread\n"
     ]
    },
    {
     "name": "stderr",
     "output_type": "stream",
     "text": [
      "/var/folders/fj/x0gy2hjx4tg84dwj10nq2z2m0000gn/T/ipykernel_10304/3348692665.py:4: DeprecationWarning: getName() is deprecated, get the name attribute instead\n",
      "  print(\"Default Child Thread Name: \", current_thread().getName())\n",
      "/var/folders/fj/x0gy2hjx4tg84dwj10nq2z2m0000gn/T/ipykernel_10304/3348692665.py:13: DeprecationWarning: getName() is deprecated, get the name attribute instead\n",
      "  print(\"Default Main Thread Name: \", current_thread().getName())\n",
      "/var/folders/fj/x0gy2hjx4tg84dwj10nq2z2m0000gn/T/ipykernel_10304/3348692665.py:14: DeprecationWarning: setName() is deprecated, set the name attribute instead\n",
      "  current_thread().setName(\"Raja Main Thread\")\n",
      "/var/folders/fj/x0gy2hjx4tg84dwj10nq2z2m0000gn/T/ipykernel_10304/3348692665.py:15: DeprecationWarning: getName() is deprecated, get the name attribute instead\n",
      "  print(\"New Main Thread Name: \", current_thread().getName())\n",
      "/var/folders/fj/x0gy2hjx4tg84dwj10nq2z2m0000gn/T/ipykernel_10304/3348692665.py:5: DeprecationWarning: setName() is deprecated, set the name attribute instead\n",
      "  current_thread().setName(\"Doc Thread\")\n",
      "/var/folders/fj/x0gy2hjx4tg84dwj10nq2z2m0000gn/T/ipykernel_10304/3348692665.py:6: DeprecationWarning: getName() is deprecated, get the name attribute instead\n",
      "  print(\"New Child Thread Name: \", current_thread().getName())\n"
     ]
    }
   ],
   "source": [
    "from threading import Thread, current_thread\n",
    "\n",
    "\n",
    "def display():\n",
    "    print(\"Default Child Thread Name: \", current_thread().getName())\n",
    "    current_thread().setName(\"Doc Thread\")\n",
    "    print(\"New Child Thread Name: \", current_thread().getName())\n",
    "\n",
    "\n",
    "t = Thread(target=display)\n",
    "\n",
    "t.start()\n",
    "\n",
    "print(\"Default Main Thread Name: \", current_thread().getName())\n",
    "current_thread().setName(\"Raja Main Thread\")\n",
    "print(\"New Main Thread Name: \", current_thread().getName())"
   ]
  },
  {
   "cell_type": "code",
   "execution_count": null,
   "id": "0d11d0ee",
   "metadata": {},
   "outputs": [
    {
     "name": "stdout",
     "output_type": "stream",
     "text": [
      "Child:  Thread-125 (display)\n",
      "Main:  Raja Main Thread\n"
     ]
    }
   ],
   "source": [
    "from threading import Thread, current_thread\n",
    "\n",
    "\n",
    "def display():\n",
    "    print(\"Child: \", current_thread().name)\n",
    "\n",
    "\n",
    "t = Thread(target=display)\n",
    "\n",
    "t.start()\n",
    "\n",
    "print(\"Main: \", current_thread().name)"
   ]
  },
  {
   "cell_type": "code",
   "execution_count": null,
   "id": "8cd933a8",
   "metadata": {},
   "outputs": [
    {
     "name": "stdout",
     "output_type": "stream",
     "text": [
      "Default Child Thread Name:  Thread-135 (display)\n",
      "New Child Thread Name:  Doc Thread\n",
      "Default Main Thread Name:  Raja Main Thread\n",
      "New Main Thread Name:  Raja Main Thread\n"
     ]
    }
   ],
   "source": [
    "from threading import Thread, current_thread\n",
    "\n",
    "\n",
    "def display():\n",
    "    print(\"Default Child Thread Name: \", current_thread().name)\n",
    "    current_thread().name = \"Doc Thread\"\n",
    "    print(\"New Child Thread Name: \", current_thread().name)\n",
    "\n",
    "\n",
    "t = Thread(target=display)\n",
    "t.start()\n",
    "\n",
    "print(\"Default Main Thread Name: \", current_thread().name)\n",
    "current_thread().name = \"Raja Main Thread\"\n",
    "print(\"New Main Thread Name: \", current_thread().name)"
   ]
  },
  {
   "cell_type": "code",
   "execution_count": null,
   "id": "e3dd8f33",
   "metadata": {},
   "outputs": [
    {
     "name": "stdout",
     "output_type": "stream",
     "text": [
      "Default Thread-155 (display)\n",
      "New Raja Thread\n"
     ]
    }
   ],
   "source": [
    "from threading import Thread\n",
    "\n",
    "\n",
    "def display():\n",
    "    pass\n",
    "\n",
    "\n",
    "t = Thread(target=display)\n",
    "print(\"Default\", t.name)\n",
    "t.name = \"Raja Thread\"\n",
    "print(\"New\", t.name)"
   ]
  },
  {
   "cell_type": "code",
   "execution_count": null,
   "id": "72b73731",
   "metadata": {},
   "outputs": [
    {
     "name": "stdout",
     "output_type": "stream",
     "text": [
      "Raja Thread\n"
     ]
    }
   ],
   "source": [
    "from threading import Thread\n",
    "\n",
    "\n",
    "def display():\n",
    "    pass\n",
    "\n",
    "\n",
    "t = Thread(target=display, name=\"Raja Thread\")\n",
    "print(t.name)"
   ]
  },
  {
   "cell_type": "markdown",
   "id": "f86d36b3",
   "metadata": {},
   "source": [
    "# Creating a Thread by creating a child class to Thread class\n",
    "---\n",
    "- We can create our own thread child class by inheriting Thread Class from threading module."
   ]
  },
  {
   "cell_type": "code",
   "execution_count": null,
   "id": "ba1f7550",
   "metadata": {},
   "outputs": [
    {
     "name": "stdout",
     "output_type": "stream",
     "text": [
      "Thread-164\n"
     ]
    }
   ],
   "source": [
    "from threading import Thread\n",
    "\n",
    "\n",
    "class MyThread(Thread):\n",
    "    pass\n",
    "\n",
    "\n",
    "t = MyThread()\n",
    "print(t.name)"
   ]
  },
  {
   "cell_type": "markdown",
   "id": "34c31bef",
   "metadata": {},
   "source": [
    "# Thread Class's Methods\n",
    "---\n",
    "- **start()**: Once a thread is created it should be started by calling start() Method.\n",
    "- **run()**: Every thread will run this method when thread is started. We can override this method and write our own code as body of the method. A thread will terminate automatically when it comes out of the run() Method.\n",
    "- **join()**: This method is used to wait till the thread completely executes the run() method."
   ]
  },
  {
   "cell_type": "code",
   "execution_count": null,
   "id": "e0ed36f3",
   "metadata": {},
   "outputs": [
    {
     "name": "stdout",
     "output_type": "stream",
     "text": [
      "Run Method\n"
     ]
    }
   ],
   "source": [
    "from threading import Thread\n",
    "\n",
    "\n",
    "class MyThread(Thread):\n",
    "    def run(self):\n",
    "        print(\"Run Method\")\n",
    "\n",
    "\n",
    "t = MyThread()\n",
    "t.start()"
   ]
  },
  {
   "cell_type": "code",
   "execution_count": null,
   "id": "7389aa9a",
   "metadata": {},
   "outputs": [
    {
     "name": "stdout",
     "output_type": "stream",
     "text": [
      "Child ThreadMain Thread\n",
      "Main Thread\n",
      "Main Thread\n",
      "Main Thread\n",
      "Main Thread\n",
      "\n",
      "Child Thread\n",
      "Child Thread\n",
      "Child Thread\n",
      "Child Thread\n"
     ]
    }
   ],
   "source": [
    "from threading import Thread\n",
    "\n",
    "\n",
    "class MyThread(Thread):\n",
    "    def run(self):\n",
    "        for i in range(5):\n",
    "            print(\"Child Thread\")\n",
    "\n",
    "\n",
    "t = MyThread()\n",
    "t.start()\n",
    "\n",
    "for i in range(5):\n",
    "    print(\"Main Thread\")"
   ]
  },
  {
   "cell_type": "code",
   "execution_count": null,
   "id": "c53c548b",
   "metadata": {},
   "outputs": [
    {
     "name": "stdout",
     "output_type": "stream",
     "text": [
      "Child Thread\n",
      "Child Thread\n",
      "Child Thread\n",
      "Child Thread\n",
      "Child Thread\n",
      "Main Thread\n",
      "Main Thread\n",
      "Main Thread\n",
      "Main Thread\n",
      "Main Thread\n"
     ]
    }
   ],
   "source": [
    "from threading import Thread\n",
    "\n",
    "\n",
    "class MyThread(Thread):\n",
    "    def run(self):\n",
    "        for i in range(5):\n",
    "            print(\"Child Thread\")\n",
    "\n",
    "\n",
    "t = MyThread()\n",
    "t.start()\n",
    "t.join()  # Main thread will wait till this thread completes\n",
    "\n",
    "for i in range(5):\n",
    "    print(\"Main Thread\")"
   ]
  },
  {
   "cell_type": "code",
   "execution_count": null,
   "id": "2202c018",
   "metadata": {},
   "outputs": [
    {
     "name": "stdout",
     "output_type": "stream",
     "text": [
      "Child Thread Constructor 5\n",
      "Main Thread\n"
     ]
    }
   ],
   "source": [
    "from threading import Thread\n",
    "\n",
    "\n",
    "class MyThread(Thread):\n",
    "    def __init__(self, a):\n",
    "        Thread.__init__(self)\n",
    "        print(\"Child Thread Constructor\", a)\n",
    "\n",
    "    def run(self):\n",
    "        pass\n",
    "\n",
    "\n",
    "t = MyThread(5)\n",
    "t.start()\n",
    "print(\"Main Thread\")"
   ]
  },
  {
   "cell_type": "markdown",
   "id": "58ddd53d",
   "metadata": {},
   "source": [
    "# Creating a thread withput creating a child class to Thread class\n",
    "---\n",
    "We can create an independent thread child class that does not inherit from Thread Class from threading module.\n",
    "Syntax:\n",
    "```python\n",
    "class ClassName:\n",
    "    ststement\n",
    "\n",
    "object_name = ClassName()\n",
    "Thread_object = Thread(target=object_name.function_name, args=(arg1, arg2,.....))\n",
    "```"
   ]
  },
  {
   "cell_type": "code",
   "execution_count": null,
   "id": "ca4d59ef",
   "metadata": {},
   "outputs": [
    {
     "name": "stdout",
     "output_type": "stream",
     "text": [
      "5 10\n"
     ]
    }
   ],
   "source": [
    "from threading import Thread\n",
    "\n",
    "\n",
    "class MyThread:\n",
    "    def display(self, a, b):\n",
    "        print(a, b)\n",
    "\n",
    "\n",
    "myt = MyThread()\n",
    "\n",
    "t = Thread(target=myt.display, args=(5, 10))\n",
    "t.start()"
   ]
  },
  {
   "cell_type": "markdown",
   "id": "cf38d446",
   "metadata": {},
   "source": [
    "# Single Tasking using a Thread\n",
    "---\n",
    "\n",
    "When multiple tasks are executed by a thread one by one, it is called **single tasking**.\n",
    "\n",
    "## Real-world Example\n",
    "\n",
    "> Writing answers to a question paper one by one.\n",
    "\n",
    "---\n",
    "\n",
    "## Key Points\n",
    "\n",
    "- **Single Tasking:**  \n",
    "    A single thread performs tasks sequentially, one after another.\n",
    "- **No Parallelism:**  \n",
    "    Only one task is active at any given time.\n",
    "- **Simplicity:**  \n",
    "    Easier to implement and debug compared to multitasking."
   ]
  },
  {
   "cell_type": "code",
   "execution_count": null,
   "id": "3fdcf288",
   "metadata": {},
   "outputs": [
    {
     "name": "stdout",
     "output_type": "stream",
     "text": [
      "Solving Q1\n"
     ]
    },
    {
     "name": "stdout",
     "output_type": "stream",
     "text": [
      "Q1 Solved\n",
      "Solving Q2\n",
      "Q2 Solved\n",
      "Solving Q3\n",
      "Q3 Solved\n"
     ]
    }
   ],
   "source": [
    "from threading import Thread\n",
    "from time import sleep\n",
    "\n",
    "\n",
    "class MyExam:\n",
    "    def solve_questions(self):\n",
    "        self.q1()\n",
    "        self.q2()\n",
    "        self.q3()\n",
    "\n",
    "    def q1(self):\n",
    "        print(\"Solving Q1\")\n",
    "        sleep(3)\n",
    "        print(\"Q1 Solved\")\n",
    "\n",
    "    def q2(self):\n",
    "        print(\"Solving Q2\")\n",
    "        sleep(3)\n",
    "        print(\"Q2 Solved\")\n",
    "\n",
    "    def q3(self):\n",
    "        print(\"Solving Q3\")\n",
    "        sleep(3)\n",
    "        print(\"Q3 Solved\")\n",
    "\n",
    "\n",
    "myexam = MyExam()\n",
    "\n",
    "t = Thread(target=myexam.solve_questions)\n",
    "t.start()"
   ]
  },
  {
   "cell_type": "markdown",
   "id": "b1f62408",
   "metadata": {},
   "source": [
    "# Multitasking using a Multiple Thread\n",
    "---\n",
    "When multiple tasks are executed at a time, then it is called Multi-tasking. For this purpose we need more that one thread and when we use more that one thread. it is called multi threading."
   ]
  },
  {
   "cell_type": "code",
   "execution_count": null,
   "id": "9cc09fc0",
   "metadata": {},
   "outputs": [
    {
     "name": "stdout",
     "output_type": "stream",
     "text": [
      "Take Order From TableServe Food To Table 0\n",
      "Serve Food To Table 1\n",
      "Serve Food To Table 2\n",
      "Serve Food To Table 3\n",
      "Serve Food To Table 4\n",
      " 0\n",
      "Take Order From Table 1\n",
      "Take Order From Table 2\n",
      "Take Order From Table 3\n",
      "Take Order From Table 4\n"
     ]
    }
   ],
   "source": [
    "# Two Task using Two Thread\n",
    "\n",
    "from threading import Thread\n",
    "\n",
    "\n",
    "class Hotel:\n",
    "    def __init__(self, table):\n",
    "        self.table = table\n",
    "\n",
    "    def food(self):\n",
    "        for i in range(5):\n",
    "            print(self.table, i)\n",
    "\n",
    "\n",
    "h1 = Hotel(\"Take Order From Table\")\n",
    "h2 = Hotel(\"Serve Food To Table\")\n",
    "\n",
    "t1 = Thread(target=h1.food)\n",
    "t2 = Thread(target=h2.food)\n",
    "\n",
    "t1.start()\n",
    "t2.start()"
   ]
  },
  {
   "cell_type": "code",
   "execution_count": null,
   "id": "bf9e5190",
   "metadata": {},
   "outputs": [
    {
     "name": "stdout",
     "output_type": "stream",
     "text": [
      "Available Seat: 1\n",
      "1 Seat Reserved for Raja\n",
      "Available Seat: 0\n",
      "Sorry! All Seats Reserved\n"
     ]
    }
   ],
   "source": [
    "from threading import Thread, current_thread\n",
    "\n",
    "\n",
    "class Flight:\n",
    "    def __init__(self, available_seat):\n",
    "        self.available_seat = available_seat\n",
    "\n",
    "    def reserve(self, need_seat):\n",
    "        print(\"Available Seat:\", self.available_seat)\n",
    "        if self.available_seat >= need_seat:\n",
    "            name = current_thread().name\n",
    "            print(need_seat, \"Seat Reserved for\", name)\n",
    "            self.available_seat -= need_seat\n",
    "        else:\n",
    "            print(\"Sorry! All Seats Reserved\")\n",
    "\n",
    "\n",
    "f = Flight(1)\n",
    "\n",
    "t1 = Thread(target=f.reserve, args=(1,), name=\"Raja\")\n",
    "t2 = Thread(target=f.reserve, args=(1,), name=\"Rahul\")\n",
    "\n",
    "t1.start()\n",
    "t2.start()"
   ]
  },
  {
   "cell_type": "markdown",
   "id": "f201e325",
   "metadata": {},
   "source": [
    "# Race Condition\n",
    "---\n",
    "Race condition is a situation that occurs when threads are acting in an unexpected sequence sequence, thus leading to unreliable output.\n",
    "This can be eliminated using thread sunchronization."
   ]
  },
  {
   "cell_type": "markdown",
   "id": "7b35fa75",
   "metadata": {},
   "source": [
    "# Thread Synchronization\n",
    "---\n",
    "Many threads trying to access the same object can lead to problem like making data inconsistent or getting unexpected output So When a thread  is already accessing an object, preventing any other thread accessing the same object is called Thread Synchronization.\n",
    "The object on which the threads are synchronized is called Synchronized Object or **Mutually Exclusive Lock(mutex)**\n",
    "There are following techniques to do Thread Synchronization\n",
    "- Using Locks\n",
    "- Usiing RLock (Re-Entrant Lock)\n",
    "- Using Semaphores"
   ]
  },
  {
   "cell_type": "markdown",
   "id": "5e0956b7",
   "metadata": {},
   "source": [
    "# Locks\n",
    "---\n",
    "Locks are typically used to synchronize access to a shared resource. Lock can be used to lock the object in which the thread is acting. A Lock has only two states, locked and unlock. It is created in the unlocked state.\n",
    "\n",
    "# acquire()\n",
    "---\n",
    "This method is used to change the state to locked and returns immediately. When the state is locked, **acquire()** blocks until a call to **release()** in another thread changes it to unlocked, then the **acquire()** call resets it to locked and returns.\n",
    "\n",
    "**Syntax:**  \n",
    "`acquire(blocking=True, timeout=-1)`\n",
    "\n",
    "- **True:** It blocks until the lock is unlocked, then sets it to locked and returns True.\n",
    "- **False:** It does not block. If a call with blocking set to True would block, return False immediately; otherwise, set the lock to locked and return True.\n",
    "- **Timeout:** When invoked with the floating-point timeout argument set to a positive value, block for at most the number of seconds specified by timeout and if the lock cannot be acquired, return False. A timeout argument of -1 specifies an unbounded wait. It is forbidden to specify a timeout when blocking is False.\n",
    "- The return value is **True** if the lock is acquired successfully, **False** if not (for example, if the timeout expired).\n",
    "\n",
    "# Release\n",
    "---\n",
    "- This method is used to release a lock. This can be called from any thread, not only the thread which has acquired the lock.\n",
    "- When the lock is locked, reset it to unlocked, and return. If any other threads are blocked waiting for the lock to become unlocked, allow exactly one of then to proceed.\n",
    "- When invoked on an unlocked lock, a RuntimeErroe is raised.\n",
    "- There is no return value.\n",
    "- **Syntax: release()**"
   ]
  },
  {
   "cell_type": "code",
   "execution_count": null,
   "id": "7bedbf18",
   "metadata": {},
   "outputs": [
    {
     "name": "stdout",
     "output_type": "stream",
     "text": [
      "Available Seat: 2\n",
      "1 Seat Reserved for Raja\n",
      "Available Seat: 1\n",
      "1 Seat Reserved for Rahim\n",
      "Available Seat: 0\n",
      "Sorry! All Seats Reserved\n"
     ]
    }
   ],
   "source": [
    "from threading import *\n",
    "\n",
    "\n",
    "class Flight:\n",
    "    def __init__(self, available_seat):\n",
    "        self.available_seat = available_seat\n",
    "        self.l = Lock()\n",
    "\n",
    "    def reserve(self, need_seat):\n",
    "        self.l.acquire()\n",
    "        print(\"Available Seat:\", self.available_seat)\n",
    "        if self.available_seat >= need_seat:\n",
    "            name = current_thread().name\n",
    "            print(need_seat, \"Seat Reserved for\", name)\n",
    "            self.available_seat -= need_seat\n",
    "        else:\n",
    "            print(\"Sorry! All Seats Reserved\")\n",
    "        self.l.release()\n",
    "\n",
    "\n",
    "f = Flight(2)\n",
    "\n",
    "t1 = Thread(target=f.reserve, args=(1,), name=\"Raja\")\n",
    "t2 = Thread(target=f.reserve, args=(1,), name=\"Rahul\")\n",
    "t3 = Thread(target=f.reserve, args=(1,), name=\"Rahim\")\n",
    "\n",
    "t1.start()\n",
    "t2.start()\n",
    "t3.start()"
   ]
  },
  {
   "cell_type": "code",
   "execution_count": null,
   "id": "b7b304f4",
   "metadata": {},
   "outputs": [
    {
     "name": "stdout",
     "output_type": "stream",
     "text": [
      "Available Seat: 2\n",
      "1 Seat Reserved for Raja\n",
      "Available Seat: 1\n",
      "1 Seat Reserved for Rahul\n",
      "Available Seat: 0\n",
      "Sorry! All Seats Reserved\n"
     ]
    }
   ],
   "source": [
    "from threading import *\n",
    "\n",
    "\n",
    "class Flight:\n",
    "    def __init__(self, available_seat):\n",
    "        self.available_seat = available_seat\n",
    "        self.l = Lock()\n",
    "\n",
    "    def reserve(self, need_seat):\n",
    "        self.l.acquire(blocking=True, timeout=-1)\n",
    "        print(\"Available Seat:\", self.available_seat)\n",
    "        if self.available_seat >= need_seat:\n",
    "            name = current_thread().name\n",
    "            print(need_seat, \"Seat Reserved for\", name)\n",
    "            self.available_seat -= need_seat\n",
    "        else:\n",
    "            print(\"Sorry! All Seats Reserved\")\n",
    "        self.l.release()\n",
    "\n",
    "\n",
    "f = Flight(2)\n",
    "\n",
    "t1 = Thread(target=f.reserve, args=(1,), name=\"Raja\")\n",
    "t2 = Thread(target=f.reserve, args=(1,), name=\"Rahul\")\n",
    "t3 = Thread(target=f.reserve, args=(1,), name=\"Rahim\")\n",
    "\n",
    "t1.start()\n",
    "t2.start()\n",
    "t3.start()"
   ]
  },
  {
   "cell_type": "code",
   "execution_count": null,
   "id": "d6c19676",
   "metadata": {},
   "outputs": [
    {
     "name": "stdout",
     "output_type": "stream",
     "text": [
      "Available Seat: 2\n",
      "1 Seat Reserved for Raja\n"
     ]
    },
    {
     "name": "stdout",
     "output_type": "stream",
     "text": [
      "Available Seat: 1\n",
      "1 Seat Reserved for Rahul\n",
      "Available Seat: 0\n",
      "Sorry! All Seats Reserved\n"
     ]
    },
    {
     "name": "stderr",
     "output_type": "stream",
     "text": [
      "Exception in thread Raja:\n",
      "Traceback (most recent call last):\n",
      "  File \u001b[35m\"/opt/homebrew/Cellar/python@3.13/3.13.7/Frameworks/Python.framework/Versions/3.13/lib/python3.13/threading.py\"\u001b[0m, line \u001b[35m1043\u001b[0m, in \u001b[35m_bootstrap_inner\u001b[0m\n",
      "    \u001b[31mself.run\u001b[0m\u001b[1;31m()\u001b[0m\n",
      "    \u001b[31m~~~~~~~~\u001b[0m\u001b[1;31m^^\u001b[0m\n",
      "  File \u001b[35m\"/Users/I571352/Desktop/I571352-Personal/programming-learning/.venv/lib/python3.13/site-packages/ipykernel/ipkernel.py\"\u001b[0m, line \u001b[35m772\u001b[0m, in \u001b[35mrun_closure\u001b[0m\n",
      "    \u001b[31m_threading_Thread_run\u001b[0m\u001b[1;31m(self)\u001b[0m\n",
      "    \u001b[31m~~~~~~~~~~~~~~~~~~~~~\u001b[0m\u001b[1;31m^^^^^^\u001b[0m\n",
      "  File \u001b[35m\"/opt/homebrew/Cellar/python@3.13/3.13.7/Frameworks/Python.framework/Versions/3.13/lib/python3.13/threading.py\"\u001b[0m, line \u001b[35m994\u001b[0m, in \u001b[35mrun\u001b[0m\n",
      "    \u001b[31mself._target\u001b[0m\u001b[1;31m(*self._args, **self._kwargs)\u001b[0m\n",
      "    \u001b[31m~~~~~~~~~~~~\u001b[0m\u001b[1;31m^^^^^^^^^^^^^^^^^^^^^^^^^^^^^\u001b[0m\n",
      "  File \u001b[35m\"/var/folders/fj/x0gy2hjx4tg84dwj10nq2z2m0000gn/T/ipykernel_10304/1125538657.py\"\u001b[0m, line \u001b[35m19\u001b[0m, in \u001b[35mreserve\u001b[0m\n",
      "    \u001b[31mself.l.release\u001b[0m\u001b[1;31m()\u001b[0m\n",
      "    \u001b[31m~~~~~~~~~~~~~~\u001b[0m\u001b[1;31m^^\u001b[0m\n",
      "\u001b[1;35mRuntimeError\u001b[0m: \u001b[35mrelease unlocked lock\u001b[0m\n",
      "Exception in thread Rahul:\n",
      "Traceback (most recent call last):\n",
      "  File \u001b[35m\"/opt/homebrew/Cellar/python@3.13/3.13.7/Frameworks/Python.framework/Versions/3.13/lib/python3.13/threading.py\"\u001b[0m, line \u001b[35m1043\u001b[0m, in \u001b[35m_bootstrap_inner\u001b[0m\n",
      "    \u001b[31mself.run\u001b[0m\u001b[1;31m()\u001b[0m\n",
      "    \u001b[31m~~~~~~~~\u001b[0m\u001b[1;31m^^\u001b[0m\n",
      "  File \u001b[35m\"/Users/I571352/Desktop/I571352-Personal/programming-learning/.venv/lib/python3.13/site-packages/ipykernel/ipkernel.py\"\u001b[0m, line \u001b[35m772\u001b[0m, in \u001b[35mrun_closure\u001b[0m\n",
      "    \u001b[31m_threading_Thread_run\u001b[0m\u001b[1;31m(self)\u001b[0m\n",
      "    \u001b[31m~~~~~~~~~~~~~~~~~~~~~\u001b[0m\u001b[1;31m^^^^^^\u001b[0m\n",
      "  File \u001b[35m\"/opt/homebrew/Cellar/python@3.13/3.13.7/Frameworks/Python.framework/Versions/3.13/lib/python3.13/threading.py\"\u001b[0m, line \u001b[35m994\u001b[0m, in \u001b[35mrun\u001b[0m\n",
      "    \u001b[31mself._target\u001b[0m\u001b[1;31m(*self._args, **self._kwargs)\u001b[0m\n",
      "    \u001b[31m~~~~~~~~~~~~\u001b[0m\u001b[1;31m^^^^^^^^^^^^^^^^^^^^^^^^^^^^^\u001b[0m\n",
      "  File \u001b[35m\"/var/folders/fj/x0gy2hjx4tg84dwj10nq2z2m0000gn/T/ipykernel_10304/1125538657.py\"\u001b[0m, line \u001b[35m19\u001b[0m, in \u001b[35mreserve\u001b[0m\n",
      "    \u001b[31mself.l.release\u001b[0m\u001b[1;31m()\u001b[0m\n",
      "    \u001b[31m~~~~~~~~~~~~~~\u001b[0m\u001b[1;31m^^\u001b[0m\n",
      "\u001b[1;35mRuntimeError\u001b[0m: \u001b[35mrelease unlocked lock\u001b[0m\n"
     ]
    }
   ],
   "source": [
    "from threading import *\n",
    "import time\n",
    "\n",
    "\n",
    "class Flight:\n",
    "    def __init__(self, available_seat):\n",
    "        self.available_seat = available_seat\n",
    "        self.l = Lock()\n",
    "\n",
    "    def reserve(self, need_seat):\n",
    "        self.l.acquire(blocking=True, timeout=2)\n",
    "        print(\"Available Seat:\", self.available_seat)\n",
    "        if self.available_seat >= need_seat:\n",
    "            name = current_thread().name\n",
    "            print(need_seat, \"Seat Reserved for\", name)\n",
    "            self.available_seat -= need_seat\n",
    "            time.sleep(4)\n",
    "        else:\n",
    "            print(\"Sorry! All Seats Reserved\")\n",
    "        self.l.release()\n",
    "\n",
    "\n",
    "f = Flight(2)\n",
    "\n",
    "t1 = Thread(target=f.reserve, args=(1,), name=\"Raja\")\n",
    "t2 = Thread(target=f.reserve, args=(1,), name=\"Rahul\")\n",
    "t3 = Thread(target=f.reserve, args=(1,), name=\"Rahim\")\n",
    "\n",
    "t1.start()\n",
    "t2.start()\n",
    "t3.start()"
   ]
  },
  {
   "cell_type": "code",
   "execution_count": null,
   "id": "8e4fdad6",
   "metadata": {},
   "outputs": [
    {
     "name": "stdout",
     "output_type": "stream",
     "text": [
      "Available Seat: 2\n",
      "1 Seat Reserved for Raja\n",
      "Available Seat: 1\n",
      "1 Seat Reserved for Rahul\n",
      "Available Seat: 0\n",
      "Sorry! All Seats Reserved\n",
      "main thread\n"
     ]
    }
   ],
   "source": [
    "from threading import *\n",
    "import time\n",
    "\n",
    "\n",
    "class Flight:\n",
    "    def __init__(self, available_seat):\n",
    "        self.available_seat = available_seat\n",
    "        self.l = Lock()\n",
    "\n",
    "    def reserve(self, need_seat):\n",
    "        self.l.acquire(blocking=True, timeout=-1)\n",
    "        print(\"Available Seat:\", self.available_seat)\n",
    "        if self.available_seat >= need_seat:\n",
    "            name = current_thread().name\n",
    "            print(need_seat, \"Seat Reserved for\", name)\n",
    "            self.available_seat -= need_seat\n",
    "            time.sleep(4)\n",
    "        else:\n",
    "            print(\"Sorry! All Seats Reserved\")\n",
    "        self.l.release()\n",
    "\n",
    "\n",
    "f = Flight(2)\n",
    "\n",
    "t1 = Thread(target=f.reserve, args=(1,), name=\"Raja\")\n",
    "t2 = Thread(target=f.reserve, args=(1,), name=\"Rahul\")\n",
    "t3 = Thread(target=f.reserve, args=(1,), name=\"Rahim\")\n",
    "\n",
    "t1.start()\n",
    "t2.start()\n",
    "t3.start()\n",
    "t1.join()\n",
    "t2.join()\n",
    "t3.join()\n",
    "print(\"main thread\")"
   ]
  },
  {
   "cell_type": "markdown",
   "id": "12ea6ecc",
   "metadata": {},
   "source": [
    "# RLock\n",
    "---\n",
    "- A reetrant lock is synchronization primitive that may be acquired multiple times by the same thread.\n",
    "- The standard Lock doesn't know which thread is currently holding the lock. If the lock is held, any thread itself is already holding the lock. In such cases, RLock (re-entrant lock) is used.\n",
    "- A reentrant lock must be release by the thread that acquired it. Once a thread has acquired a reentrant lock, the same thread may acquire it again without blocking; the thread must release it once for each time it has acquired it.\n"
   ]
  },
  {
   "cell_type": "code",
   "execution_count": null,
   "id": "96860dfb",
   "metadata": {},
   "outputs": [
    {
     "name": "stdout",
     "output_type": "stream",
     "text": [
      "<locked _thread.lock object at 0x11237f6d0>\n",
      "Available Seat: 2\n",
      "1 Seat Reserved for Raja\n",
      "<unlocked _thread.lock object at 0x11237f6d0>\n",
      "<locked _thread.lock object at 0x11237f6d0>\n",
      "Available Seat: 1\n",
      "1 Seat Reserved for Rahul\n",
      "<unlocked _thread.lock object at 0x11237f6d0>\n",
      "<locked _thread.lock object at 0x11237f6d0>\n",
      "Available Seat: 0\n",
      "Sorry! All Seats Reserved\n",
      "<unlocked _thread.lock object at 0x11237f6d0>\n"
     ]
    }
   ],
   "source": [
    "from threading import *\n",
    "\n",
    "\n",
    "class Flight:\n",
    "    def __init__(self, available_seat):\n",
    "        self.available_seat = available_seat\n",
    "        self.l = Lock()\n",
    "\n",
    "    def reserve(self, need_seat):\n",
    "        self.l.acquire(blocking=True, timeout=-1)\n",
    "        print(self.l)\n",
    "        print(\"Available Seat:\", self.available_seat)\n",
    "        if self.available_seat >= need_seat:\n",
    "            name = current_thread().name\n",
    "            print(need_seat, \"Seat Reserved for\", name)\n",
    "            self.available_seat -= need_seat\n",
    "        else:\n",
    "            print(\"Sorry! All Seats Reserved\")\n",
    "        self.l.release()\n",
    "        print(self.l)\n",
    "\n",
    "\n",
    "f = Flight(2)\n",
    "\n",
    "t1 = Thread(target=f.reserve, args=(1,), name=\"Raja\")\n",
    "t2 = Thread(target=f.reserve, args=(1,), name=\"Rahul\")\n",
    "t3 = Thread(target=f.reserve, args=(1,), name=\"Rahim\")\n",
    "\n",
    "t1.start()\n",
    "t2.start()\n",
    "t3.start()"
   ]
  },
  {
   "cell_type": "code",
   "execution_count": null,
   "id": "4b2c3afb",
   "metadata": {},
   "outputs": [
    {
     "name": "stdout",
     "output_type": "stream",
     "text": [
      "<locked _thread.RLock object owner=12952186880 count=1 at 0x1124216c0>\n",
      "<locked _thread.RLock object owner=12952186880 count=2 at 0x1124216c0>\n",
      "Available Seat: 2\n",
      "1 Seat Reserved for Raja\n",
      "<locked _thread.RLock object owner=12952186880 count=1 at 0x1124216c0>\n",
      "<unlocked _thread.RLock object owner=0 count=0 at 0x1124216c0>\n",
      "<locked _thread.RLock object owner=12969013248 count=1 at 0x1124216c0>\n",
      "<locked _thread.RLock object owner=12969013248 count=2 at 0x1124216c0>\n",
      "Available Seat: 1\n",
      "1 Seat Reserved for Rahul\n",
      "<locked _thread.RLock object owner=12969013248 count=1 at 0x1124216c0>\n",
      "<unlocked _thread.RLock object owner=0 count=0 at 0x1124216c0>\n",
      "<locked _thread.RLock object owner=12985839616 count=1 at 0x1124216c0>\n",
      "<locked _thread.RLock object owner=12985839616 count=2 at 0x1124216c0>\n",
      "Available Seat: 0\n",
      "Sorry! All Seats Reserved\n",
      "<locked _thread.RLock object owner=12985839616 count=1 at 0x1124216c0>\n",
      "<unlocked _thread.RLock object owner=0 count=0 at 0x1124216c0>\n"
     ]
    }
   ],
   "source": [
    "from threading import *\n",
    "\n",
    "\n",
    "class Flight:\n",
    "    def __init__(self, available_seat):\n",
    "        self.available_seat = available_seat\n",
    "        self.r = RLock()\n",
    "\n",
    "    def reserve(self, need_seat):\n",
    "        self.r.acquire(blocking=True, timeout=-1)\n",
    "        print(self.r)\n",
    "        self.r.acquire(blocking=True, timeout=-1)\n",
    "        print(self.r)\n",
    "        print(\"Available Seat:\", self.available_seat)\n",
    "        if self.available_seat >= need_seat:\n",
    "            name = current_thread().name\n",
    "            print(need_seat, \"Seat Reserved for\", name)\n",
    "            self.available_seat -= need_seat\n",
    "        else:\n",
    "            print(\"Sorry! All Seats Reserved\")\n",
    "        self.r.release()\n",
    "        print(self.r)\n",
    "        self.r.release()\n",
    "        print(self.r)\n",
    "\n",
    "\n",
    "f = Flight(2)\n",
    "\n",
    "t1 = Thread(target=f.reserve, args=(1,), name=\"Raja\")\n",
    "t2 = Thread(target=f.reserve, args=(1,), name=\"Rahul\")\n",
    "t3 = Thread(target=f.reserve, args=(1,), name=\"Rahim\")\n",
    "\n",
    "t1.start()\n",
    "t2.start()\n",
    "t3.start()"
   ]
  },
  {
   "cell_type": "markdown",
   "id": "be614210",
   "metadata": {},
   "source": [
    "# Semaphore\n",
    "---\n",
    "- This is one of the oldest synchronization primitives in the history of computer science, invented by the early Dutch computer scientist Edsger W. Dijkstra,\n",
    "- A semaphore manages an internal counter which is decremented by each acquire() call and incremented by each release() call.\n",
    "- The counter can never go below zero(); when acquire() finds that it is zero, it blocks, waiting untill some other thread calls release()."
   ]
  },
  {
   "cell_type": "code",
   "execution_count": null,
   "id": "dbd7c98a",
   "metadata": {},
   "outputs": [
    {
     "name": "stdout",
     "output_type": "stream",
     "text": [
      "<threading.Semaphore at 0x112259be0: value=1>\n",
      "<threading.Semaphore at 0x112259be0: value=0>\n",
      "Available Seat: 2\n",
      "1 Seat Reserved for Raja\n",
      "<threading.Semaphore at 0x112259be0: value=2>\n",
      "<threading.Semaphore at 0x112259be0: value=3>\n",
      "<threading.Semaphore at 0x112259be0: value=2>\n",
      "<threading.Semaphore at 0x112259be0: value=1>\n",
      "Available Seat: 1\n",
      "1 Seat Reserved for Rahul\n",
      "<threading.Semaphore at 0x112259be0: value=3>\n",
      "<threading.Semaphore at 0x112259be0: value=4>\n",
      "<threading.Semaphore at 0x112259be0: value=3>\n",
      "<threading.Semaphore at 0x112259be0: value=2>\n",
      "Available Seat: 0\n",
      "Sorry! All Seats Reserved\n",
      "<threading.Semaphore at 0x112259be0: value=4>\n",
      "<threading.Semaphore at 0x112259be0: value=5>\n"
     ]
    }
   ],
   "source": [
    "from threading import *\n",
    "\n",
    "\n",
    "class Flight:\n",
    "    def __init__(self, available_seat):\n",
    "        self.available_seat = available_seat\n",
    "        self.s = Semaphore(2)\n",
    "\n",
    "    def reserve(self, need_seat):\n",
    "        self.s.acquire(blocking=True, timeout=-1)\n",
    "        print(self.s)\n",
    "        self.s.acquire(blocking=True, timeout=-1)\n",
    "        print(self.s)\n",
    "        print(\"Available Seat:\", self.available_seat)\n",
    "        if self.available_seat >= need_seat:\n",
    "            name = current_thread().name\n",
    "            print(need_seat, \"Seat Reserved for\", name)\n",
    "            self.available_seat -= need_seat\n",
    "        else:\n",
    "            print(\"Sorry! All Seats Reserved\")\n",
    "        self.s.release()\n",
    "        self.s.release()\n",
    "        print(self.s)\n",
    "        self.s.release()\n",
    "        print(self.s)\n",
    "\n",
    "\n",
    "f = Flight(2)\n",
    "\n",
    "t1 = Thread(target=f.reserve, args=(1,), name=\"Raja\")\n",
    "t2 = Thread(target=f.reserve, args=(1,), name=\"Rahul\")\n",
    "t3 = Thread(target=f.reserve, args=(1,), name=\"Rahim\")\n",
    "\n",
    "t1.start()\n",
    "t2.start()\n",
    "t3.start()"
   ]
  },
  {
   "cell_type": "markdown",
   "id": "4467e36c",
   "metadata": {},
   "source": [
    "# Bounded Semaphore\n",
    "---\n",
    "\n",
    "A **Bounded Semaphore** is similar to a regular semaphore but with an added safety check: it will raise a `ValueError` if you try to release it more times than its initial value. This helps prevent programming errors where a semaphore might be released too many times, which could lead to inconsistent program state.\n",
    "\n",
    "## Key Points\n",
    "\n",
    "- **Initialization:**  \n",
    "    `BoundedSemaphore(value)` creates a semaphore with a maximum count of `value`.\n",
    "- **acquire():**  \n",
    "    Decreases the internal counter by one, blocking if the counter is zero.\n",
    "- **release():**  \n",
    "    Increases the internal counter by one, but raises an error if it exceeds the initial value.\n",
    "\n",
    "**Use Case:**  \n",
    "Bounded semaphores are useful when you want to strictly enforce the maximum number of available resources."
   ]
  },
  {
   "cell_type": "code",
   "execution_count": null,
   "id": "36069835",
   "metadata": {},
   "outputs": [
    {
     "name": "stdout",
     "output_type": "stream",
     "text": [
      "<threading.BoundedSemaphore at 0x1123d5590: value=1/2>\n",
      "<threading.BoundedSemaphore at 0x1123d5590: value=1/2>\n",
      "Available Seat: 2\n",
      "1 Seat Reserved for Raja\n",
      "<threading.BoundedSemaphore at 0x1123d5590: value=2/2>\n",
      "<threading.BoundedSemaphore at 0x1123d5590: value=1/2>\n",
      "<threading.BoundedSemaphore at 0x1123d5590: value=1/2>\n",
      "Available Seat: 1\n",
      "1 Seat Reserved for Rahul\n",
      "<threading.BoundedSemaphore at 0x1123d5590: value=2/2>\n",
      "<threading.BoundedSemaphore at 0x1123d5590: value=1/2>\n",
      "<threading.BoundedSemaphore at 0x1123d5590: value=1/2>\n",
      "Available Seat: 0\n",
      "Sorry! All Seats Reserved\n",
      "<threading.BoundedSemaphore at 0x1123d5590: value=2/2>\n"
     ]
    }
   ],
   "source": [
    "# Example of Bounded Semaphore\n",
    "\n",
    "from threading import *\n",
    "\n",
    "\n",
    "class Flight:\n",
    "    def __init__(self, available_seat):\n",
    "        self.available_seat = available_seat\n",
    "        # Create a BoundedSemaphore with a maximum count of 2\n",
    "        self.br = BoundedSemaphore(2)\n",
    "\n",
    "    def reserve(self, need_seat):\n",
    "        # Acquire the semaphore before accessing the shared resource\n",
    "        self.br.acquire(blocking=True, timeout=-1)\n",
    "        print(self.br)  # Print semaphore state (for demonstration)\n",
    "        print(\"Available Seat:\", self.available_seat)\n",
    "        if self.available_seat >= need_seat:\n",
    "            name = current_thread().name\n",
    "            print(need_seat, \"Seat Reserved for\", name)\n",
    "            self.available_seat -= need_seat\n",
    "        else:\n",
    "            print(\"Sorry! All Seats Reserved\")\n",
    "        # Release the semaphore after the operation is done\n",
    "        self.br.release()\n",
    "        print(self.br)  # Print semaphore state after release\n",
    "\n",
    "\n",
    "# Create a Flight object with 2 available seats\n",
    "f = Flight(2)\n",
    "\n",
    "# Create three threads trying to reserve seats\n",
    "t1 = Thread(target=f.reserve, args=(1,), name=\"Raja\")\n",
    "t2 = Thread(target=f.reserve, args=(1,), name=\"Rahul\")\n",
    "t3 = Thread(target=f.reserve, args=(1,), name=\"Rahim\")\n",
    "\n",
    "# Start all threads\n",
    "t1.start()\n",
    "t2.start()\n",
    "t3.start()"
   ]
  },
  {
   "cell_type": "markdown",
   "id": "9f316c2d",
   "metadata": {},
   "source": [
    "# Thread Communication\n",
    "\n",
    "Two or more threads communicate with each other.\n",
    "- Event\n",
    "- Condition\n",
    "- Queue\n",
    "---\n",
    "### Event\n",
    "- This is one of the simplest mechanisms for communication between threads:\n",
    "one thread signals an event and other threads wait for it.\n",
    "- An event object manages an internal flag that can be set to true with the set()\n",
    "method and reset to false with the clear() method. The wait() method blocks until the flag is true.\n",
    "\n",
    "### Event Methods\n",
    "- **set()**: It sets the internal flag to true. All threads waiting for it to become true are awakened. Threads that call wait() once the flag is true will not block at all.\n",
    "\n",
    "- **clear()**: It resets the internal flag to false. Subsequently, threads calling wait() will block untill set() is called to set the internal flag to true again.\n",
    "- **is_set()**: It returns true if and only if the internal flag is true\n",
    "- **wait(timeout=None)**: It blocks untill the internal flag is true. If the internal flag is true on entry, return immediately. Otherwise, block untill another thread calls set() to set the flag to true, or untill the optional timeout occurs."
   ]
  },
  {
   "cell_type": "code",
   "execution_count": null,
   "id": "6c0d8c7f",
   "metadata": {},
   "outputs": [
    {
     "name": "stdout",
     "output_type": "stream",
     "text": [
      "Green Light OnYou can Go..\n",
      "\n",
      "You can Go..\n",
      "You can Go..\n",
      "You can Go..\n",
      "You can Go..\n",
      "You can Go..\n",
      "You can Go..\n",
      "You can Go..\n",
      "You can Go..\n",
      "You can Go..\n",
      "Red Light On\n",
      "Program Done\n"
     ]
    }
   ],
   "source": [
    "from threading import Thread, Event\n",
    "from time import sleep\n",
    "\n",
    "\n",
    "def light_switch():\n",
    "    sleep(3)\n",
    "    e.set()\n",
    "    print(\"Green Light On\")\n",
    "    sleep(5)\n",
    "    print(\"Red Light On\")\n",
    "    e.clear()\n",
    "\n",
    "\n",
    "def traffic():\n",
    "    e.wait()\n",
    "    while e.is_set():\n",
    "        print(\"You can Go..\")\n",
    "        sleep(0.5)\n",
    "    print(\"Program Done\")\n",
    "\n",
    "\n",
    "e = Event()\n",
    "t1 = Thread(target=light_switch)\n",
    "t2 = Thread(target=traffic)\n",
    "\n",
    "t1.start()\n",
    "t2.start()"
   ]
  },
  {
   "cell_type": "markdown",
   "id": "9230e4b9",
   "metadata": {},
   "source": [
    "# Condition\n",
    "---\n",
    "- Condition class is used to improve speed of communication between Threads. The condition class object is called condition variable.\n",
    "- A condition variable is always associated with some kind of lock; this can be passed in or one will be created by default. Passing one in is useful when several condition variables must share the same lock. The lock is part of the condition object; you don't have to track it seperately.\n",
    "- A condition is a more advanced vesrion of the event object.\n",
    "\n",
    "### Create Condition Object\n",
    "---\n",
    "from threading import Condition\n",
    "cv = Condition()\n",
    "\n",
    "### Condiiton Method\n",
    "---\n",
    "- **notify**: This method is used to immediately wake up one thread waiting on the condition. Where n is number of thread need to wake up.\n",
    "- **notify_all()**: This method is used to wake up all threads waiting on the condition.\n",
    "- **wait(timeout=None)**: This method wait until notified or until a timeout occurs. If the calling thread has not acquired the lock when this method is. called, a RuntimeError is raised. Wait terminates when invokes **notify()** method or **notify_all()** method. The return value is True unless a given timeout expired, in which case it is False."
   ]
  },
  {
   "cell_type": "code",
   "execution_count": null,
   "id": "dd00d03c",
   "metadata": {},
   "outputs": [
    {
     "name": "stdout",
     "output_type": "stream",
     "text": [
      "Produced: item-1\n",
      "Produced: item-2\n",
      "Produced: item-3\n",
      "Produced: item-4\n",
      "Produced: item-5\n",
      "[1, 2, 3, 4, 5]\n"
     ]
    }
   ],
   "source": [
    "from threading import Thread, Condition\n",
    "from time import sleep\n",
    "\n",
    "lst = []\n",
    "\n",
    "\n",
    "def producer():\n",
    "    cv.acquire()\n",
    "    for i in range(1, 6):\n",
    "        lst.append(i)\n",
    "        sleep(1)\n",
    "        print(f\"Produced: item-{i}\")\n",
    "    cv.notify()\n",
    "    cv.release()\n",
    "\n",
    "\n",
    "def consumer():\n",
    "    cv.acquire()\n",
    "    cv.wait(timeout=0)\n",
    "    cv.release()\n",
    "    print(lst)\n",
    "\n",
    "\n",
    "cv = Condition()\n",
    "t1 = Thread(target=producer)\n",
    "t2 = Thread(target=consumer)\n",
    "t1.start()\n",
    "t2.start()"
   ]
  },
  {
   "cell_type": "markdown",
   "id": "3af83a2e",
   "metadata": {},
   "source": [
    "# Queue\n",
    "---\n",
    "- The Queue class of queue module is useful to create a queue that holds the data product by the producer.\n",
    "- The data can be taken from the queue and utilized by the consumer.\n",
    "- We need not use locks sinnce queues are thread safe.\n",
    "\n",
    "### Create Queue Object\n",
    "---\n",
    "from queue import Queue\n",
    "q = Queue()\n",
    "\n",
    "### Queue Methods\n",
    "---\n",
    "- **put()**: This method is used by Producer to insert items into the queue.\n",
    "    - **Syntax:**: queue\n",
    "- **get()**:\n",
    "- **empty()**:\n",
    "- **full()**:\n"
   ]
  }
 ],
 "metadata": {
  "kernelspec": {
   "display_name": ".venv",
   "language": "python",
   "name": "python3"
  },
  "language_info": {
   "codemirror_mode": {
    "name": "ipython",
    "version": 3
   },
   "file_extension": ".py",
   "mimetype": "text/x-python",
   "name": "python",
   "nbconvert_exporter": "python",
   "pygments_lexer": "ipython3",
   "version": "3.13.7"
  }
 },
 "nbformat": 4,
 "nbformat_minor": 5
}
