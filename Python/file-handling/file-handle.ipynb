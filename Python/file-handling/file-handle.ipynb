{
 "cells": [
  {
   "cell_type": "code",
   "execution_count": 1,
   "metadata": {},
   "outputs": [],
   "source": [
    "import os"
   ]
  },
  {
   "cell_type": "markdown",
   "metadata": {},
   "source": [
    "Common Functions:\n",
    "\n",
    "- **os.getcwd()**: Get the current working directory.\n",
    "- **os.listdir(path)**: List contents of a directory.\n",
    "- **os.mkdir(path)**: Create a new directory.\n",
    "- **os.makedirs(path, exist_ok=True)**: Create nested directories.\n",
    "- **os.remove(path)**: Delete a file.\n",
    "- **os.rmdir(path)**: Remove a directory.\n",
    "- **os.rename(src, dst)**: Rename a file or directory."
   ]
  },
  {
   "cell_type": "code",
   "execution_count": 2,
   "metadata": {},
   "outputs": [
    {
     "data": {
      "text/plain": [
       "\"c:\\\\Users\\\\rajas\\\\OneDrive\\\\Desktop\\\\Raja's github\\\\pytest-handson\""
      ]
     },
     "execution_count": 2,
     "metadata": {},
     "output_type": "execute_result"
    }
   ],
   "source": [
    "os.getcwd()"
   ]
  },
  {
   "cell_type": "code",
   "execution_count": 4,
   "metadata": {},
   "outputs": [
    {
     "data": {
      "text/plain": [
       "['my_function.py', 'shapes.py', '__init__.py']"
      ]
     },
     "execution_count": 4,
     "metadata": {},
     "output_type": "execute_result"
    }
   ],
   "source": [
    "os.listdir(\"c:\\\\Users\\\\rajas\\\\OneDrive\\\\Desktop\\\\Raja's github\\\\pytest-handson\\\\src\")"
   ]
  },
  {
   "cell_type": "code",
   "execution_count": 5,
   "metadata": {},
   "outputs": [],
   "source": [
    "os.mkdir(\"abc\")"
   ]
  },
  {
   "cell_type": "code",
   "execution_count": 6,
   "metadata": {},
   "outputs": [],
   "source": [
    "os.rmdir(\"abc\")"
   ]
  },
  {
   "cell_type": "code",
   "execution_count": 7,
   "metadata": {},
   "outputs": [],
   "source": [
    "with open(\"myfile.txt\",\"w\") as fp:\n",
    "    pass"
   ]
  },
  {
   "cell_type": "code",
   "execution_count": 8,
   "metadata": {},
   "outputs": [
    {
     "data": {
      "text/plain": [
       "['.git',\n",
       " '.gitignore',\n",
       " 'file-handle.ipynb',\n",
       " 'myfile.txt',\n",
       " 'README.md',\n",
       " 'src',\n",
       " 'tests',\n",
       " 'venv']"
      ]
     },
     "execution_count": 8,
     "metadata": {},
     "output_type": "execute_result"
    }
   ],
   "source": [
    "os.listdir()"
   ]
  },
  {
   "cell_type": "markdown",
   "metadata": {},
   "source": [
    "os.path Module\n",
    "Part of the os module, os.path provides functions for manipulating file paths in a way that is compatible across different operating systems.\n",
    "\n",
    "Key Features:\n",
    "\n",
    "Join, split, and manipulate file paths.\n",
    "Check path properties (e.g., existence, file or directory).\n",
    "Common Functions:\n",
    "\n",
    "- **os.path.join(path, *paths)**: Join multiple path components.\n",
    "- **os.path.exists(path)**: Check if a path exists.\n",
    "- **os.path.isfile(path)**: Check if a path is a file.\n",
    "- **os.path.isdir(path)**: Check if a path is a directory.\n",
    "- **os.path.basename(path)**: Get the base name of the path.\n",
    "- **os.path.dirname(path)**: Get the directory name of the path."
   ]
  },
  {
   "cell_type": "code",
   "execution_count": 13,
   "metadata": {},
   "outputs": [
    {
     "data": {
      "text/plain": [
       "'pytest-handson'"
      ]
     },
     "execution_count": 13,
     "metadata": {},
     "output_type": "execute_result"
    }
   ],
   "source": [
    "os.path.basename(r\"C:\\Users\\rajas\\OneDrive\\Desktop\\Raja's github\\pytest-handson\")"
   ]
  },
  {
   "cell_type": "code",
   "execution_count": 14,
   "metadata": {},
   "outputs": [
    {
     "data": {
      "text/plain": [
       "True"
      ]
     },
     "execution_count": 14,
     "metadata": {},
     "output_type": "execute_result"
    }
   ],
   "source": [
    "os.path.isfile(r\"C:\\Users\\rajas\\OneDrive\\Desktop\\Raja's github\\pytest-handson\\myfile.txt\")"
   ]
  },
  {
   "cell_type": "code",
   "execution_count": null,
   "metadata": {},
   "outputs": [],
   "source": [
    "import os\n",
    "\n",
    "def print_directory_contents(path):\n",
    "    for foldername, subfolders, filenames in os.walk(path):\n",
    "        print(f'Folder: {foldername}')\n",
    "        for subfolder in subfolders:\n",
    "            print(f'  Subfolder: {subfolder}')\n",
    "        for filename in filenames:\n",
    "            print(f'  File: {filename}')\n",
    "        print()  # Blank line for better readability\n",
    "\n",
    "# Replace '/path/to/directory' with the directory path you want to scan\n",
    "directory_path = os.getcwd()\n",
    "print_directory_contents(directory_path)"
   ]
  },
  {
   "cell_type": "markdown",
   "metadata": {},
   "source": [
    "# Python File Modes\n",
    "| Character | Meaning |\n",
    "|-----------|---------------------------------------------------------------|\n",
    "| `'r'`     | Opens a file for reading (default). |\n",
    "| `'w'`     | Opens a file for writing. Creates a new file if it doesn’t exist or truncates the file if it exists. |\n",
    "| `'x'`     | Creates a new file and opens it for writing. Fails if the file already exists. |\n",
    "| `'a'`     | Opens a file for appending. Creates a new file if it doesn’t exist. |\n",
    "| `'b'`     | Opens a file in binary mode. |\n",
    "| `'t'`     | Opens a file in text mode (default). |\n",
    "| `'+'`     | Opens a file for both reading and writing. |\n",
    "\n",
    "You can combine these modes, like `'rb'` for reading in binary mode or `'w+'` for reading and writing.\n"
   ]
  },
  {
   "cell_type": "code",
   "execution_count": 28,
   "metadata": {},
   "outputs": [
    {
     "name": "stdout",
     "output_type": "stream",
     "text": [
      "student.txt\n",
      "r\n",
      "True\n",
      "False\n",
      "False\n",
      "True\n"
     ]
    }
   ],
   "source": [
    "f = open('student.txt', mode='r', encoding='utf-8')\n",
    "print(f.name)\n",
    "print(f.mode)\n",
    "print(f.readable())\n",
    "print(f.writable())\n",
    "print(f.closed)\n",
    "\n",
    "f.close()\n",
    "print(f.closed)"
   ]
  },
  {
   "cell_type": "code",
   "execution_count": 30,
   "metadata": {},
   "outputs": [
    {
     "name": "stdout",
     "output_type": "stream",
     "text": [
      "File found\n"
     ]
    }
   ],
   "source": [
    "import os\n",
    "if os.path.isfile('student.txt'):\n",
    "    f = open('student.txt', mode='r')\n",
    "    print('File found')\n",
    "    f.close()\n",
    "else:\n",
    "    print('File not found.')"
   ]
  },
  {
   "cell_type": "markdown",
   "metadata": {},
   "source": [
    "## Writing Data to the file\n",
    "- **write()**: This method is used to store/write character or string into the file represented by the file object. It returns the number of character written.\n",
    "- Syntax:- file_object.write(string)\n",
    "- **writelines()**: This method is usded to stire/write group of string (list, tuple, set) into the file represented by the file object.\n",
    "- Syntax:- file_object.write(group of string)\n"
   ]
  },
  {
   "cell_type": "code",
   "execution_count": 33,
   "metadata": {},
   "outputs": [
    {
     "name": "stdout",
     "output_type": "stream",
     "text": [
      "Number of character written in a file: 10\n"
     ]
    }
   ],
   "source": [
    "# Example 1\n",
    "f = open('student.txt', mode='w')\n",
    "n = f.write('Hello Raja')\n",
    "f.close()\n",
    "print(f\"Number of character written in a file: {n}\")"
   ]
  },
  {
   "cell_type": "code",
   "execution_count": 36,
   "metadata": {},
   "outputs": [],
   "source": [
    "# Example 2\n",
    "f = open ('student.txt', mode='w')\n",
    "f.write('Hello\\n')\n",
    "f.write('Raja Sur\\n')\n",
    "f.write('How are you?')\n",
    "f.close()"
   ]
  },
  {
   "cell_type": "code",
   "execution_count": 38,
   "metadata": {},
   "outputs": [
    {
     "ename": "FileExistsError",
     "evalue": "[Errno 17] File exists: 'student1.txt'",
     "output_type": "error",
     "traceback": [
      "\u001b[1;31m---------------------------------------------------------------------------\u001b[0m",
      "\u001b[1;31mFileExistsError\u001b[0m                           Traceback (most recent call last)",
      "Cell \u001b[1;32mIn[38], line 2\u001b[0m\n\u001b[0;32m      1\u001b[0m \u001b[38;5;66;03m# Example 3\u001b[39;00m\n\u001b[1;32m----> 2\u001b[0m f \u001b[38;5;241m=\u001b[39m \u001b[38;5;28;43mopen\u001b[39;49m\u001b[43m \u001b[49m\u001b[43m(\u001b[49m\u001b[38;5;124;43m'\u001b[39;49m\u001b[38;5;124;43mstudent1.txt\u001b[39;49m\u001b[38;5;124;43m'\u001b[39;49m\u001b[43m,\u001b[49m\u001b[43m \u001b[49m\u001b[43mmode\u001b[49m\u001b[38;5;241;43m=\u001b[39;49m\u001b[38;5;124;43m'\u001b[39;49m\u001b[38;5;124;43mx\u001b[39;49m\u001b[38;5;124;43m'\u001b[39;49m\u001b[43m)\u001b[49m\n\u001b[0;32m      3\u001b[0m f\u001b[38;5;241m.\u001b[39mwrite(\u001b[38;5;124m'\u001b[39m\u001b[38;5;124mHello\u001b[39m\u001b[38;5;130;01m\\n\u001b[39;00m\u001b[38;5;124m'\u001b[39m)\n\u001b[0;32m      4\u001b[0m f\u001b[38;5;241m.\u001b[39mwrite(\u001b[38;5;124m'\u001b[39m\u001b[38;5;124mRaja Sur\u001b[39m\u001b[38;5;130;01m\\n\u001b[39;00m\u001b[38;5;124m'\u001b[39m)\n",
      "File \u001b[1;32mc:\\Users\\rajas\\OneDrive\\Desktop\\Raja's github\\pytest-handson\\venv\\Lib\\site-packages\\IPython\\core\\interactiveshell.py:324\u001b[0m, in \u001b[0;36m_modified_open\u001b[1;34m(file, *args, **kwargs)\u001b[0m\n\u001b[0;32m    317\u001b[0m \u001b[38;5;28;01mif\u001b[39;00m file \u001b[38;5;129;01min\u001b[39;00m {\u001b[38;5;241m0\u001b[39m, \u001b[38;5;241m1\u001b[39m, \u001b[38;5;241m2\u001b[39m}:\n\u001b[0;32m    318\u001b[0m     \u001b[38;5;28;01mraise\u001b[39;00m \u001b[38;5;167;01mValueError\u001b[39;00m(\n\u001b[0;32m    319\u001b[0m         \u001b[38;5;124mf\u001b[39m\u001b[38;5;124m\"\u001b[39m\u001b[38;5;124mIPython won\u001b[39m\u001b[38;5;124m'\u001b[39m\u001b[38;5;124mt let you open fd=\u001b[39m\u001b[38;5;132;01m{\u001b[39;00mfile\u001b[38;5;132;01m}\u001b[39;00m\u001b[38;5;124m by default \u001b[39m\u001b[38;5;124m\"\u001b[39m\n\u001b[0;32m    320\u001b[0m         \u001b[38;5;124m\"\u001b[39m\u001b[38;5;124mas it is likely to crash IPython. If you know what you are doing, \u001b[39m\u001b[38;5;124m\"\u001b[39m\n\u001b[0;32m    321\u001b[0m         \u001b[38;5;124m\"\u001b[39m\u001b[38;5;124myou can use builtins\u001b[39m\u001b[38;5;124m'\u001b[39m\u001b[38;5;124m open.\u001b[39m\u001b[38;5;124m\"\u001b[39m\n\u001b[0;32m    322\u001b[0m     )\n\u001b[1;32m--> 324\u001b[0m \u001b[38;5;28;01mreturn\u001b[39;00m \u001b[43mio_open\u001b[49m\u001b[43m(\u001b[49m\u001b[43mfile\u001b[49m\u001b[43m,\u001b[49m\u001b[43m \u001b[49m\u001b[38;5;241;43m*\u001b[39;49m\u001b[43margs\u001b[49m\u001b[43m,\u001b[49m\u001b[43m \u001b[49m\u001b[38;5;241;43m*\u001b[39;49m\u001b[38;5;241;43m*\u001b[39;49m\u001b[43mkwargs\u001b[49m\u001b[43m)\u001b[49m\n",
      "\u001b[1;31mFileExistsError\u001b[0m: [Errno 17] File exists: 'student1.txt'"
     ]
    }
   ],
   "source": [
    "# Example 3\n",
    "f = open ('student1.txt', mode='x')\n",
    "f.write('Hello\\n')\n",
    "f.write('Raja Sur\\n')\n",
    "f.write('How are you?')\n",
    "f.close()"
   ]
  },
  {
   "cell_type": "code",
   "execution_count": 40,
   "metadata": {},
   "outputs": [],
   "source": [
    " # Example 4 \n",
    "\n",
    "f = open('student3.txt', mode='a')\n",
    "f.write('Raja')\n",
    "f.close()"
   ]
  },
  {
   "cell_type": "code",
   "execution_count": 44,
   "metadata": {},
   "outputs": [],
   "source": [
    "# writelines example\n",
    "lst = ['Raja\\n', 'Apple\\n', 'Qualcomm\\n', 'Google\\n']\n",
    "f = open('example.txt', mode='a')\n",
    "f.writelines(lst)\n",
    "f.close()"
   ]
  },
  {
   "cell_type": "markdown",
   "metadata": {},
   "source": [
    "## Reading Data from file\n",
    "- **read(size)**: This method is used to read data/content from a file and returns it as string in text mode or bytes object in binary mode.\n",
    "    - Syntax:- file_object.read(size)\n",
    "    - Where sizerepresents the number of bytes to be read from the beginning of the file.\n",
    "    - When size is omitted or negative, the entire contents of the file will be read and returned.\n",
    "    - If the end of the file has been reached, file_object.read() will return an empty string ('')\n",
    "- **readline()**: This method is used to read single line from a file.\n",
    "    - Syntax:- file_object.readline() \n",
    "- **readlines()**: This method is used to read all lines from a file. It will return list of line.\n",
    "    - Syntax:- file_object.readlines()\n",
    "\n"
   ]
  },
  {
   "cell_type": "code",
   "execution_count": 47,
   "metadata": {},
   "outputs": [
    {
     "name": "stdout",
     "output_type": "stream",
     "text": [
      "Raja\n",
      "Apple\n",
      "Qualcomm\n",
      "Google\n",
      "Raja\n",
      "Apple\n",
      "Qualcomm\n",
      "Google\n",
      "Raja\n",
      "Apple\n",
      "Qualcomm\n",
      "Google\n",
      "\n"
     ]
    }
   ],
   "source": [
    "#Example read 1\n",
    "\n",
    "f = open('example.txt', mode='r')\n",
    "data = f.read()\n",
    "print(data)\n",
    "f.close()"
   ]
  },
  {
   "cell_type": "code",
   "execution_count": 49,
   "metadata": {},
   "outputs": [
    {
     "name": "stdout",
     "output_type": "stream",
     "text": [
      "Raj\n",
      "a\n",
      "A\n"
     ]
    }
   ],
   "source": [
    "#Example read 2\n",
    "\n",
    "f = open('example.txt', mode='r')\n",
    "data = f.read(3)\n",
    "data1 = f.read(3) \n",
    "print(data)\n",
    "print(data1)\n",
    "f.close()"
   ]
  },
  {
   "cell_type": "code",
   "execution_count": 50,
   "metadata": {},
   "outputs": [
    {
     "name": "stdout",
     "output_type": "stream",
     "text": [
      "Raja\n",
      "\n"
     ]
    }
   ],
   "source": [
    "# Example readline 1\n",
    "f = open('example.txt', mode='r')\n",
    "data = f.readline()\n",
    "print(data)\n",
    "f.close()"
   ]
  },
  {
   "cell_type": "code",
   "execution_count": 51,
   "metadata": {},
   "outputs": [
    {
     "name": "stdout",
     "output_type": "stream",
     "text": [
      "Raja\n",
      "Apple\n",
      "\n"
     ]
    }
   ],
   "source": [
    "# Example readline 2\n",
    "f = open('example.txt', mode='r')\n",
    "data1 = f.readline()\n",
    "data2 = f.readline()\n",
    "print(data1, end='')\n",
    "print(data2)\n",
    "f.close()"
   ]
  },
  {
   "cell_type": "code",
   "execution_count": 52,
   "metadata": {},
   "outputs": [
    {
     "name": "stdout",
     "output_type": "stream",
     "text": [
      "['Raja\\n', 'Apple\\n', 'Qualcomm\\n', 'Google\\n', 'Raja\\n', 'Apple\\n', 'Qualcomm\\n', 'Google\\n', 'Raja\\n', 'Apple\\n', 'Qualcomm\\n', 'Google\\n']\n"
     ]
    }
   ],
   "source": [
    "# Example readlines\n",
    "f = open('example.txt', mode='r')\n",
    "data = f.readlines()\n",
    "print(data)\n",
    "f.close()"
   ]
  },
  {
   "cell_type": "markdown",
   "metadata": {},
   "source": [
    "## Tell and Seek Method\n",
    "- **tell()**: This method is used to find current position of file pointer from beginning of the file. Position strts from 0.\n",
    "    - Syntax:- file_object.tell() \n",
    "- **seek(position)**: This method is used to move file pointer from one position to another position from beginning of the file. Position strts from 0 and it must bepositive integer.\n",
    "    - Syntax:- file_object.seek(position)"
   ]
  },
  {
   "cell_type": "code",
   "execution_count": 54,
   "metadata": {},
   "outputs": [
    {
     "name": "stdout",
     "output_type": "stream",
     "text": [
      "0\n",
      "Raj\n",
      "3\n",
      "a\n",
      "Appl\n",
      "10\n"
     ]
    }
   ],
   "source": [
    "#Example of tell method\n",
    "\n",
    "f = open('example.txt', mode='r')\n",
    "print(f.tell())\n",
    "data = f.read(3)\n",
    "print(data)\n",
    "print(f.tell())\n",
    "data1 = f.read(6)\n",
    "print(data1)\n",
    "print(f.tell())\n",
    "f.close()"
   ]
  },
  {
   "cell_type": "code",
   "execution_count": 55,
   "metadata": {},
   "outputs": [
    {
     "name": "stdout",
     "output_type": "stream",
     "text": [
      "0\n",
      "7\n",
      "pple\n",
      "Qualcomm\n",
      "Google\n",
      "Raja\n",
      "Apple\n",
      "Qualcomm\n",
      "Google\n",
      "Raja\n",
      "Apple\n",
      "Qualcomm\n",
      "Google\n",
      "\n",
      "2\n",
      "ja\n",
      "Apple\n",
      "Qualcomm\n",
      "Google\n",
      "Raja\n",
      "Apple\n",
      "Qualcomm\n",
      "Google\n",
      "Raja\n",
      "Apple\n",
      "Qualcomm\n",
      "Google\n",
      "\n"
     ]
    }
   ],
   "source": [
    "# Example of seek method\n",
    "\n",
    "f = open('example.txt', mode='r')\n",
    "print(f.tell())\n",
    "f.seek(7)\n",
    "print(f.tell())\n",
    "data1 = f.read()\n",
    "print(data1)\n",
    "f.seek(2)\n",
    "print(f.tell())\n",
    "data2 = f.read()\n",
    "print(data2)"
   ]
  },
  {
   "cell_type": "markdown",
   "metadata": {},
   "source": [
    "# with Statement\n",
    "- The with statement can be used while openinh file.\n",
    "- When we open a file using with statement there is no need to close the file explicitly.\n",
    "- Syntax:-\n",
    "    ```python\n",
    "    with open('filename', mode='r') as file_object:\n",
    "        statements\n",
    "    ```"
   ]
  },
  {
   "cell_type": "code",
   "execution_count": 56,
   "metadata": {},
   "outputs": [
    {
     "name": "stdout",
     "output_type": "stream",
     "text": [
      "Hello\n",
      "Raja Sur\n",
      "How are you?\n",
      "False\n",
      "True\n"
     ]
    }
   ],
   "source": [
    "with open('student.txt', mode='r') as fp:\n",
    "    data = fp.read() \n",
    "    print(data)\n",
    "    print(fp.closed)\n",
    "print(fp.closed)"
   ]
  },
  {
   "cell_type": "code",
   "execution_count": null,
   "metadata": {},
   "outputs": [],
   "source": []
  }
 ],
 "metadata": {
  "kernelspec": {
   "display_name": "venv",
   "language": "python",
   "name": "python3"
  },
  "language_info": {
   "codemirror_mode": {
    "name": "ipython",
    "version": 3
   },
   "file_extension": ".py",
   "mimetype": "text/x-python",
   "name": "python",
   "nbconvert_exporter": "python",
   "pygments_lexer": "ipython3",
   "version": "3.12.4"
  }
 },
 "nbformat": 4,
 "nbformat_minor": 2
}
