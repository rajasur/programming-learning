{
 "cells": [
  {
   "cell_type": "code",
   "execution_count": 1,
   "metadata": {},
   "outputs": [],
   "source": [
    "# Import libraries\n",
    "import copy\n",
    "import time"
   ]
  },
  {
   "cell_type": "code",
   "execution_count": 2,
   "metadata": {},
   "outputs": [
    {
     "name": "stdout",
     "output_type": "stream",
     "text": [
      "Before modify anythong shallow copy list is: [[1, 2, 3], [4, 5, 6], [7, 8, 9]] and original list is: [[1, 2, 3], [4, 5, 6], [7, 8, 9]]\n",
      "After modify the value, shallow copy is: [[10, 2, 3], [4, 5, 6], [7, 8, 9]] and original list is: [[10, 2, 3], [4, 5, 6], [7, 8, 9]]\n"
     ]
    }
   ],
   "source": [
    "original_list=[[1,2,3],[4,5,6],[7,8,9]]\n",
    "shallow_copied_list=copy.copy(original_list)\n",
    "print(f\"Before modify anythong shallow copy list is: {shallow_copied_list} and original list is: {original_list}\")\n",
    "# Modify the nested lisy in the shallow copy\n",
    "shallow_copied_list[0][0]=10\n",
    "print(f\"After modify the value, shallow copy is: {shallow_copied_list} and original list is: {original_list}\")"
   ]
  },
  {
   "cell_type": "code",
   "execution_count": 3,
   "metadata": {},
   "outputs": [
    {
     "name": "stdout",
     "output_type": "stream",
     "text": [
      "Before modify anythong shallow copy list is: [[1, 2, 3], [4, 5, 6], [7, 8, 9]] and original list is: [[1, 2, 3], [4, 5, 6], [7, 8, 9]]\n",
      "After modify the value, shallow copy is: [[10, 2, 3], [4, 5, 6], [7, 8, 9]] and original list is: [[1, 2, 3], [4, 5, 6], [7, 8, 9]]\n"
     ]
    }
   ],
   "source": [
    "original_list=[[1,2,3],[4,5,6],[7,8,9]]\n",
    "deep_copied_list=copy.deepcopy(original_list)\n",
    "print(f\"Before modify anythong shallow copy list is: {deep_copied_list} and original list is: {original_list}\")\n",
    "# Modify the nested lisy in the deep copy\n",
    "deep_copied_list[0][0]=10\n",
    "print(f\"After modify the value, shallow copy is: {deep_copied_list} and original list is: {original_list}\")"
   ]
  },
  {
   "cell_type": "markdown",
   "metadata": {},
   "source": [
    "<centre> \n",
    "Decorator Implementation \n",
    "</centre>"
   ]
  },
  {
   "cell_type": "code",
   "execution_count": 4,
   "metadata": {},
   "outputs": [
    {
     "name": "stdout",
     "output_type": "stream",
     "text": [
      "10\n"
     ]
    }
   ],
   "source": [
    "# Decorator in python\n",
    "def decor(func):\n",
    "    def wrapper():\n",
    "        res=func()+5\n",
    "        return res \n",
    "    return wrapper\n",
    "\n",
    "@decor\n",
    "def calculation():\n",
    "    return 5\n",
    "res=calculation()\n",
    "print(res)"
   ]
  },
  {
   "cell_type": "markdown",
   "metadata": {},
   "source": [
    "### Problem 1: Timing Function Execution"
   ]
  },
  {
   "cell_type": "code",
   "execution_count": 5,
   "metadata": {
    "tags": [
     "parameters"
    ]
   },
   "outputs": [
    {
     "name": "stdout",
     "output_type": "stream",
     "text": [
      "example_function ran in 2.004945993423462 time\n"
     ]
    }
   ],
   "source": [
    "def timer(func):\n",
    "    def wrapper(*args, **kwargs):\n",
    "        start_time=time.time()\n",
    "        res=func(*args, **kwargs)\n",
    "        end_time=time.time()\n",
    "        print(f\"{func.__name__} ran in {end_time-start_time} time\")\n",
    "        return res \n",
    "    return wrapper\n",
    "\n",
    "@timer \n",
    "def example_function(n):\n",
    "    time.sleep(n)\n",
    "    \n",
    "example_function(2)\n",
    "        "
   ]
  },
  {
   "cell_type": "markdown",
   "metadata": {},
   "source": [
    "### Problem 2: Debugging Function Calls"
   ]
  },
  {
   "cell_type": "markdown",
   "metadata": {},
   "source": []
  },
  {
   "cell_type": "markdown",
   "metadata": {},
   "source": [
    "### Map, Filter, Reduce in Python"
   ]
  },
  {
   "cell_type": "code",
   "execution_count": 6,
   "metadata": {},
   "outputs": [
    {
     "name": "stdout",
     "output_type": "stream",
     "text": [
      "[1, 8, 64, 216, 64, 27]\n"
     ]
    }
   ],
   "source": [
    "# Map function implementation\n",
    "l=[1,2,4,6,4,3]\n",
    "res=list(map(lambda x: x**3,l))\n",
    "print(res)"
   ]
  },
  {
   "cell_type": "code",
   "execution_count": 7,
   "metadata": {},
   "outputs": [
    {
     "name": "stdout",
     "output_type": "stream",
     "text": [
      "[2, 4, 6, 4]\n"
     ]
    }
   ],
   "source": [
    "# Filter function implementation using lambda\n",
    "l=[1,2,4,6,4,3]\n",
    "even_numbers=list(filter(lambda x: x%2==0,l))\n",
    "print(even_numbers)"
   ]
  },
  {
   "cell_type": "code",
   "execution_count": 8,
   "metadata": {},
   "outputs": [
    {
     "name": "stdout",
     "output_type": "stream",
     "text": [
      "20\n"
     ]
    }
   ],
   "source": [
    "# Reduce function implementation using lambda\n",
    "from functools import reduce\n",
    "l=[1,2,4,6,4,3]\n",
    "reduce_result=reduce(lambda x,y : x + y, l)\n",
    "print(reduce_result)"
   ]
  },
  {
   "cell_type": "markdown",
   "metadata": {
    "vscode": {
     "languageId": "shellscript"
    }
   },
   "source": [
    "## Exception Handling in Python\n",
    "\n",
    "#### Need of Exception Handling\n",
    "- **When an exception occurs, the program terminates suddenly.**\n",
    "- **Sudden termination of the program may corrupt the program.**\n",
    "- **Exceptions may cause data loss from the database or a file.**\n",
    "\n",
    "### Exception Handling Blocks\n",
    "\n",
    "**Try**\n",
    "- **The try block contains code which may cause exceptions.** <br>\n",
    "  Syntax:\n",
    "  ```python\n",
    "  try:\n",
    "      statements\n",
    "  ```\n",
    "\n",
    "**Except**\n",
    "- **The except block is used to catch an exception that is raised in the try block. There can be multiple except blocks for a try block.** <br>\n",
    "  Syntax:\n",
    "  ```python\n",
    "  except ExceptionName:\n",
    "      statement\n",
    "  ```\n",
    "\n",
    "**Else**\n",
    "- **This block will get executed when no exception is raised. The else block is executed after the try block.**\n",
    "\n",
    "### Notes\n",
    "- **We can write several except blocks for a single try block.**\n",
    "- **We can write multiple except blocks to handle multiple exception.**\n",
    "- **We can write try block without any exception.**\n",
    "- **We can not write except block without try block.**\n",
    "- **Finally block is always executed irrespective of whether there is an exception or not.**\n",
    "- **Else block is optional**\n",
    "- **Finally block is optional.**"
   ]
  },
  {
   "cell_type": "code",
   "execution_count": 13,
   "metadata": {},
   "outputs": [
    {
     "name": "stdout",
     "output_type": "stream",
     "text": [
      "Division by Zero is not allowed.\n",
      "Rest of the code\n"
     ]
    }
   ],
   "source": [
    "a=int(input(\"Enter the value of a: \"))\n",
    "b=int(input(\"Enter the value of b: \"))\n",
    "\n",
    "try:\n",
    "    print(a/b)\n",
    "except ZeroDivisionError:\n",
    "    print(\"Division by Zero is not allowed.\")\n",
    "    \n",
    "print(\"Rest of the code\")"
   ]
  },
  {
   "cell_type": "code",
   "execution_count": 15,
   "metadata": {},
   "outputs": [
    {
     "name": "stdout",
     "output_type": "stream",
     "text": [
      "Division by Zero is not allowed.\n",
      "Rest of the code\n"
     ]
    }
   ],
   "source": [
    "a=int(input(\"Enter the value of a: \"))\n",
    "b=int(input(\"Enter the value of b: \"))\n",
    "\n",
    "try:\n",
    "    print(a/b)\n",
    "    print(\"Inside the try block.\")\n",
    "except ZeroDivisionError:\n",
    "    print(\"Division by Zero is not allowed.\")\n",
    "    \n",
    "print(\"Rest of the code\")"
   ]
  },
  {
   "cell_type": "code",
   "execution_count": 16,
   "metadata": {},
   "outputs": [
    {
     "name": "stdout",
     "output_type": "stream",
     "text": [
      "2.0\n",
      "Inside the try block.\n",
      "Inside Else\n",
      "Rest of the code\n"
     ]
    }
   ],
   "source": [
    "a=10\n",
    "b=5\n",
    "\n",
    "try:\n",
    "    print(a/b)\n",
    "    print(\"Inside the try block.\")\n",
    "except ZeroDivisionError:\n",
    "    print(\"Division by Zero is not allowed.\")\n",
    "else:\n",
    "    print(\"Inside Else\")\n",
    "    \n",
    "print(\"Rest of the code\")"
   ]
  },
  {
   "cell_type": "code",
   "execution_count": 17,
   "metadata": {},
   "outputs": [
    {
     "name": "stdout",
     "output_type": "stream",
     "text": [
      "Division by Zero is not allowed.\n",
      "Rest of the code\n"
     ]
    }
   ],
   "source": [
    "a=10\n",
    "b=0\n",
    "\n",
    "try:\n",
    "    print(a/b)\n",
    "    print(\"Inside the try block.\")\n",
    "except ZeroDivisionError:\n",
    "    print(\"Division by Zero is not allowed.\")\n",
    "else:\n",
    "    print(\"Inside Else\")\n",
    "    \n",
    "print(\"Rest of the code\")"
   ]
  },
  {
   "cell_type": "code",
   "execution_count": 18,
   "metadata": {},
   "outputs": [
    {
     "name": "stdout",
     "output_type": "stream",
     "text": [
      "2.0\n",
      "Inside the try block.\n",
      "Inside Else\n",
      "Inside Finally.\n",
      "Rest of the code\n"
     ]
    }
   ],
   "source": [
    "a=10\n",
    "b=5\n",
    "\n",
    "try:\n",
    "    print(a/b)\n",
    "    print(\"Inside the try block.\")\n",
    "except ZeroDivisionError:\n",
    "    print(\"Division by Zero is not allowed.\")\n",
    "else:\n",
    "    print(\"Inside Else\")\n",
    "finally:\n",
    "    print(\"Inside Finally.\")\n",
    "    \n",
    "print(\"Rest of the code\")"
   ]
  },
  {
   "cell_type": "code",
   "execution_count": 19,
   "metadata": {},
   "outputs": [
    {
     "name": "stdout",
     "output_type": "stream",
     "text": [
      "Division by Zero is not allowed.\n",
      "Inside Finally.\n",
      "Rest of the code\n"
     ]
    }
   ],
   "source": [
    "a=10\n",
    "b=0\n",
    "\n",
    "try:\n",
    "    print(a/b)\n",
    "    print(\"Inside the try block.\")\n",
    "except ZeroDivisionError:\n",
    "    print(\"Division by Zero is not allowed.\")\n",
    "else:\n",
    "    print(\"Inside Else\")\n",
    "finally:\n",
    "    print(\"Inside Finally.\")\n",
    "    \n",
    "print(\"Rest of the code\")"
   ]
  },
  {
   "cell_type": "code",
   "execution_count": 20,
   "metadata": {},
   "outputs": [
    {
     "name": "stdout",
     "output_type": "stream",
     "text": [
      "division by zero\n",
      "Rest of the code\n"
     ]
    }
   ],
   "source": [
    "a=10\n",
    "b=0\n",
    "\n",
    "try:\n",
    "    print(a/b)\n",
    "    print(\"Inside the try block.\")\n",
    "except ZeroDivisionError as obj:\n",
    "    print(obj)\n",
    "    \n",
    "print(\"Rest of the code\")"
   ]
  },
  {
   "cell_type": "code",
   "execution_count": 22,
   "metadata": {},
   "outputs": [
    {
     "name": "stdout",
     "output_type": "stream",
     "text": [
      "division by zero\n",
      "Rest of the code\n"
     ]
    }
   ],
   "source": [
    "a=10\n",
    "b=0\n",
    "\n",
    "try:\n",
    "    print(a/b)\n",
    "    print(\"Inside the try block.\")\n",
    "except (NameError,ZeroDivisionError) as obj:\n",
    "    print(obj)\n",
    "    \n",
    "print(\"Rest of the code\")"
   ]
  },
  {
   "cell_type": "code",
   "execution_count": 24,
   "metadata": {},
   "outputs": [
    {
     "name": "stdout",
     "output_type": "stream",
     "text": [
      "Exception handler\n",
      "Rest of the code\n"
     ]
    }
   ],
   "source": [
    "a=10\n",
    "b=0\n",
    "\n",
    "try:\n",
    "    print(a/g)\n",
    "    print(\"Inside the try block.\")\n",
    "except:\n",
    "    print(\"Exception handler\")\n",
    "    \n",
    "print(\"Rest of the code\")"
   ]
  },
  {
   "cell_type": "code",
   "execution_count": 26,
   "metadata": {},
   "outputs": [
    {
     "name": "stdout",
     "output_type": "stream",
     "text": [
      "division by zero\n",
      "Rest of the code\n"
     ]
    }
   ],
   "source": [
    "a=10\n",
    "b=0\n",
    "\n",
    "try:\n",
    "    print(a/b)\n",
    "    print(\"Inside the try block.\")\n",
    "except Exception as e:\n",
    "    print(e)\n",
    "    \n",
    "print(\"Rest of the code\")"
   ]
  }
 ],
 "metadata": {
  "kernelspec": {
   "display_name": "Python 3",
   "language": "python",
   "name": "python3"
  },
  "language_info": {
   "codemirror_mode": {
    "name": "ipython",
    "version": 3
   },
   "file_extension": ".py",
   "mimetype": "text/x-python",
   "name": "python",
   "nbconvert_exporter": "python",
   "pygments_lexer": "ipython3",
   "version": "3.11.7"
  }
 },
 "nbformat": 4,
 "nbformat_minor": 2
}
