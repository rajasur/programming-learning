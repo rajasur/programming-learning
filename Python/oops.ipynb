{
 "cells": [
  {
   "cell_type": "code",
   "execution_count": 2,
   "metadata": {},
   "outputs": [
    {
     "name": "stdout",
     "output_type": "stream",
     "text": [
      "Price of mobile is 5000\n"
     ]
    }
   ],
   "source": [
    "#static methods in python\n",
    "\n",
    "class Mobile:\n",
    "    price=5000 # class variable\n",
    "    \n",
    "    @staticmethod\n",
    "    def mobilePrice():\n",
    "        print(f\"Price of mobile is {Mobile.price}\") # access the class variable inside static method\n",
    "        \n",
    "Mobile.mobilePrice() # Here we call the static method using class"
   ]
  },
  {
   "cell_type": "markdown",
   "metadata": {},
   "source": [
    "## Calling Static Method with Argument"
   ]
  },
  {
   "cell_type": "code",
   "execution_count": 3,
   "metadata": {},
   "outputs": [
    {
     "name": "stdout",
     "output_type": "stream",
     "text": [
      "RaelMe X 1000\n"
     ]
    }
   ],
   "source": [
    "class Mobile:\n",
    "    \n",
    "    @staticmethod\n",
    "    def show_model(m,p):\n",
    "        model=m \n",
    "        price=p \n",
    "        print(model,price)\n",
    "\n",
    "Mobile.show_model(\"RaelMe X\",1000) # calling method with argument"
   ]
  },
  {
   "cell_type": "markdown",
   "metadata": {},
   "source": [
    "### Passing Members of one class to another class"
   ]
  },
  {
   "cell_type": "code",
   "execution_count": 2,
   "metadata": {},
   "outputs": [
    {
     "name": "stdout",
     "output_type": "stream",
     "text": [
      "static\n",
      "User Name: Rahul, Roll: 101\n",
      "Instance method calling\n",
      "Student name: Rahul\n",
      "Student Roll: 101\n"
     ]
    }
   ],
   "source": [
    "class Student:\n",
    "    # constructor\n",
    "    def __init__(self,name,roll_no):\n",
    "        self.name=name \n",
    "        self.roll_no=roll_no \n",
    "        \n",
    "    #Instance method\n",
    "    def disp(self):\n",
    "        print(\"Instance method calling\")\n",
    "        print(f\"Student name: {self.name}\")\n",
    "        print(f\"Student Roll: {self.roll_no}\")\n",
    "\n",
    "class User:\n",
    "    #static method \n",
    "    \n",
    "    @staticmethod\n",
    "    def show(s):\n",
    "        print(\"static\")\n",
    "        print(f\"User Name: {s.name}, Roll: {s.roll_no}\")\n",
    "        s.disp()\n",
    "        \n",
    "# Creating onject of student class\n",
    "stu= Student('Rahul',101)\n",
    "\n",
    "User.show(stu)"
   ]
  },
  {
   "cell_type": "markdown",
   "metadata": {},
   "source": [
    "### Nested Class\n",
    "- A class within a class is called as a nested class or nesting of a class"
   ]
  },
  {
   "cell_type": "code",
   "execution_count": 8,
   "metadata": {},
   "outputs": [
    {
     "name": "stdout",
     "output_type": "stream",
     "text": [
      "Rahul\n",
      "Name:  Rahul\n",
      "AK47\n",
      "AK47\n",
      "Gun Name:  AK47\n",
      "Capacity:  75 Rounds\n",
      "Length:  34.3 Inch\n"
     ]
    }
   ],
   "source": [
    "class Army:\n",
    "    def __init__(self):\n",
    "        self.name='Rahul'\n",
    "        self.gn=self.Gun() #Creating Inner class object\n",
    "    \n",
    "    def show(self):\n",
    "        print(\"Name: \",self.name)\n",
    "        \n",
    "    class Gun:\n",
    "        def __init__(self):\n",
    "            self.name='AK47'\n",
    "            self.capacity='75 Rounds'\n",
    "            self.length='34.3 Inch'\n",
    "        \n",
    "        def disp(self):\n",
    "            print(\"Gun Name: \",self.name)\n",
    "            print(\"Capacity: \",self.capacity)\n",
    "            print(\"Length: \",self.length)\n",
    "a= Army()\n",
    "print(a.name)\n",
    "a.show()\n",
    "print(a.gn.name)\n",
    "g= a.gn\n",
    "print(g.name)\n",
    "g.disp()\n",
    "g=Army().Gun() # We can call Inner class outside of the class\n",
    "\n",
    "   "
   ]
  },
  {
   "cell_type": "markdown",
   "metadata": {},
   "source": [
    "### Inheritance\n",
    "***The mechanism of deriving a new class from an old one (existing class) such that the new class inherit all the members (variables and methods) of old is called inheritance or derivation***\n",
    "- ***The old class is reffered to as the super class and the new one is called the sub class***\n",
    "- ***Parent Class or Base Class or Super Class***\n",
    "- ***Child Class or Derived Class or Sub Class***\n",
    "- ***All classes in python are built from a single super class called 'object' so whenever we created a class in python, object will become super class for them internally.***\n",
    "<br>\n",
    "Example:\n",
    "```python\n",
    "class Mobile(object):\n",
    "class Mobile\n",
    "```\n",
    "<br>\n",
    "\n",
    "- ***The main advantage of inheritance is code reusability***\n"
   ]
  },
  {
   "cell_type": "markdown",
   "metadata": {},
   "source": [
    "### Single Inheritance\n",
    "- ***If a class is derived from one base class (Parent Class), it is called Single Inheritance***\n",
    "- ***We can access Parent Class Variable and Methods using Child Class Object***\n",
    "- ***We can also access Parent Class Variable and Methods using Parent Class Object***\n",
    "\n"
   ]
  },
  {
   "cell_type": "code",
   "execution_count": 15,
   "metadata": {},
   "outputs": [
    {
     "name": "stdout",
     "output_type": "stream",
     "text": [
      "Child Class Instance Method\n",
      "Parent Class Instance Method\n",
      "Parent class Class Methos:  1000\n",
      "Parent Class Static Methos:  10\n"
     ]
    }
   ],
   "source": [
    "# Single Inheritance\n",
    "class Father:\n",
    "    money=1000\n",
    "    \n",
    "    def show(self):\n",
    "        print(\"Parent Class Instance Method\")\n",
    "        \n",
    "    @classmethod\n",
    "    def showmoney(cls):\n",
    "        print(\"Parent class Class Methos: \",cls.money)\n",
    "        \n",
    "    @staticmethod\n",
    "    def stat():\n",
    "        a=10 \n",
    "        print(\"Parent Class Static Methos: \",a)\n",
    "        \n",
    "class Son(Father):\n",
    "    def disp(self):\n",
    "        print(\"Child Class Instance Method\")\n",
    "        \n",
    "s=Son() # Creating the object of child class\n",
    "s.disp() # Calling child class Instance method using child class object\n",
    "s.show() # Calling parent class Instance method using child class object\n",
    "s.showmoney() #Calling parent class class method using child class object\n",
    "s.stat() #Calling parent class static method using child class object"
   ]
  },
  {
   "cell_type": "markdown",
   "metadata": {},
   "source": [
    "### Constructor in Inheritance\n",
    "- ***By default , The constructor in the parent class is available to the child class.***"
   ]
  },
  {
   "cell_type": "code",
   "execution_count": 21,
   "metadata": {},
   "outputs": [
    {
     "name": "stdout",
     "output_type": "stream",
     "text": [
      "Father class constructor\n",
      "1000\n",
      "Son class Instance Method 2000\n"
     ]
    }
   ],
   "source": [
    "# Constructor in Inheritance\n",
    "class Father:\n",
    "    def __init__(self,money):\n",
    "        self.money=money\n",
    "        print(\"Father class constructor\")\n",
    "    \n",
    "    def show(self):\n",
    "        print(\"Father Class Instance Method\")\n",
    "        \n",
    "class Son(Father):\n",
    "    def disp(self):\n",
    "        print(\"Son class Instance Method\",self.money+1000)\n",
    "        \n",
    "s = Son(1000)\n",
    "print(s.money)\n",
    "s.disp()\n",
    " "
   ]
  },
  {
   "cell_type": "markdown",
   "metadata": {},
   "source": [
    "### Constructor overriding\n",
    "- ***If we write constructor in the both classes, parent class and child class then the parent class constructor is not available to the child class***\n",
    "- ***Constructor overriding is used when programmer want to modify the existing behaviour of a constructor.***\n",
    "\n",
    "**Q.** What will happen if we define constructor in both classes?<br>\n",
    "**Ans.** In this case only child class constructor is accesssible which means child class constructor is replacing parent class constructor.\n",
    "\n"
   ]
  },
  {
   "cell_type": "code",
   "execution_count": 25,
   "metadata": {},
   "outputs": [
    {
     "name": "stdout",
     "output_type": "stream",
     "text": [
      "Son Class Constructor\n",
      "5000\n",
      "BMW\n",
      "Son Class Instance Method\n"
     ]
    }
   ],
   "source": [
    "# Constructor Overriding\n",
    "class Father:\n",
    "    def __init__(self): # Parent Class Constructor\n",
    "        self.money = 1000\n",
    "        print(\"Father Class Constructor\")\n",
    "        \n",
    "    def show(self):\n",
    "        print(\"Father Class Instance Method\")\n",
    "        \n",
    "class Son(Father):\n",
    "    def __init__(self):\n",
    "        self.money=5000\n",
    "        self.car='BMW'\n",
    "        print(\"Son Class Constructor\")\n",
    "    def disp(self):\n",
    "        print(\"Son Class Instance Method\")\n",
    "        \n",
    "s = Son()\n",
    "print(s.money)\n",
    "print(s.car)\n",
    "s.disp()"
   ]
  },
  {
   "cell_type": "code",
   "execution_count": 26,
   "metadata": {},
   "outputs": [
    {
     "name": "stdout",
     "output_type": "stream",
     "text": [
      "Son Class Constructor\n",
      "2000\n",
      "BMW\n",
      "Son Class Instance Method\n"
     ]
    }
   ],
   "source": [
    "# Constructor Overriding with parameter\n",
    "class Father:\n",
    "    def __init__(self,money): # Parent Class Constructor\n",
    "        self.money = money\n",
    "        print(\"Father Class Constructor\")\n",
    "        \n",
    "    def show(self):\n",
    "        print(\"Father Class Instance Method\")\n",
    "        \n",
    "class Son(Father):\n",
    "    def __init__(self,money):\n",
    "        self.money=money\n",
    "        self.car='BMW'\n",
    "        print(\"Son Class Constructor\")\n",
    "    def disp(self):\n",
    "        print(\"Son Class Instance Method\")\n",
    "        \n",
    "s = Son(2000)\n",
    "print(s.money)\n",
    "print(s.car)\n",
    "s.disp()"
   ]
  },
  {
   "cell_type": "markdown",
   "metadata": {},
   "source": [
    "**Q.** How Can we call parent class constructor?\n",
    "**Ans.** super() method is used to call parent class constructor or methods from the child class."
   ]
  },
  {
   "cell_type": "code",
   "execution_count": 2,
   "metadata": {},
   "outputs": [
    {
     "name": "stdout",
     "output_type": "stream",
     "text": [
      "Father class constructor.\n",
      "Son class constructor.\n"
     ]
    }
   ],
   "source": [
    "# Multiple Inheritance\n",
    "class Father:\n",
    "    def __init__(self):\n",
    "        print(\"Father class constructor.\")\n",
    "\n",
    "    def showF(self):\n",
    "        print(\"Father class method.\")\n",
    "\n",
    "class Mother:\n",
    "    def __init__(self):\n",
    "        print(\"Mother class constructor.\")\n",
    "\n",
    "    def showM(self):\n",
    "        print(\"Mother class method.\")\n",
    "\n",
    "class Son(Father,Mother):\n",
    "    def __init__(Self):\n",
    "        super().__init__()\n",
    "        print(\"Son class constructor.\")\n",
    "\n",
    "    def showS(Self):\n",
    "        print(\"Son class method\")\n",
    "\n",
    "s = Son()"
   ]
  },
  {
   "cell_type": "code",
   "execution_count": 3,
   "metadata": {},
   "outputs": [
    {
     "name": "stdout",
     "output_type": "stream",
     "text": [
      "Mother class constructor.\n",
      "Father class constructor.\n",
      "Son class constructor.\n"
     ]
    }
   ],
   "source": [
    "# MRO (Method Resolution order)\n",
    "class Father:\n",
    "    def __init__(self):\n",
    "        super().__init__()\n",
    "        print(\"Father class constructor.\")\n",
    "\n",
    "    def showF(self):\n",
    "        print(\"Father class method.\")\n",
    "\n",
    "class Mother:\n",
    "    def __init__(self):\n",
    "        super().__init__()\n",
    "        print(\"Mother class constructor.\")\n",
    "\n",
    "    def showM(self):\n",
    "        print(\"Mother class method.\")\n",
    "\n",
    "class Son(Father,Mother):\n",
    "    def __init__(Self):\n",
    "        super().__init__()\n",
    "        print(\"Son class constructor.\")\n",
    "\n",
    "    def showS(Self):\n",
    "        print(\"Son class method\")\n",
    "\n",
    "s = Son()"
   ]
  },
  {
   "cell_type": "code",
   "execution_count": 5,
   "metadata": {},
   "outputs": [
    {
     "name": "stdout",
     "output_type": "stream",
     "text": [
      "Thapak Thapak Thapak Thapak.\n"
     ]
    },
    {
     "ename": "AttributeError",
     "evalue": "'Cat' object has no attribute 'walk'",
     "output_type": "error",
     "traceback": [
      "\u001b[1;31m---------------------------------------------------------------------------\u001b[0m",
      "\u001b[1;31mAttributeError\u001b[0m                            Traceback (most recent call last)",
      "Cell \u001b[1;32mIn[5], line 23\u001b[0m\n\u001b[0;32m     21\u001b[0m c\u001b[38;5;241m=\u001b[39mCat()\n\u001b[0;32m     22\u001b[0m myfun(obj)\n\u001b[1;32m---> 23\u001b[0m \u001b[43mmyfun\u001b[49m\u001b[43m(\u001b[49m\u001b[43mc\u001b[49m\u001b[43m)\u001b[49m\n",
      "Cell \u001b[1;32mIn[5], line 17\u001b[0m, in \u001b[0;36mmyfun\u001b[1;34m(obj)\u001b[0m\n\u001b[0;32m     16\u001b[0m \u001b[38;5;28;01mdef\u001b[39;00m \u001b[38;5;21mmyfun\u001b[39m(obj):\n\u001b[1;32m---> 17\u001b[0m     \u001b[43mobj\u001b[49m\u001b[38;5;241;43m.\u001b[39;49m\u001b[43mwalk\u001b[49m()\n",
      "\u001b[1;31mAttributeError\u001b[0m: 'Cat' object has no attribute 'walk'"
     ]
    }
   ],
   "source": [
    "# Duck type\n",
    "class Duck:\n",
    "    def walk(self):\n",
    "        print(\"Thapak Thapak Thapak Thapak.\")\n",
    "\n",
    "class Horse:\n",
    "    def walk(self):\n",
    "        print(\"Thabrak Thabarak Thabakrak Thabarak\")\n",
    "\n",
    "class Cat:\n",
    "    def talk(self):\n",
    "        print(\"Meow Meow Meow Meow.\")\n",
    "\n",
    "\n",
    "\n",
    "def myfun(obj):\n",
    "    obj.walk()\n",
    "\n",
    "if __name__==\"__main__\":\n",
    "    obj = Duck()\n",
    "    c=Cat()\n",
    "    myfun(obj)\n",
    "    myfun(c)"
   ]
  },
  {
   "cell_type": "code",
   "execution_count": 6,
   "metadata": {},
   "outputs": [
    {
     "name": "stdout",
     "output_type": "stream",
     "text": [
      "Thapak Thapak Thapak Thapak.\n",
      "Meow Meow Meow Meow.\n"
     ]
    }
   ],
   "source": [
    "# Strong type\n",
    "class Duck:\n",
    "    def walk(self):\n",
    "        print(\"Thapak Thapak Thapak Thapak.\")\n",
    "\n",
    "class Horse:\n",
    "    def walk(self):\n",
    "        print(\"Thabrak Thabarak Thabakrak Thabarak\")\n",
    "\n",
    "class Cat:\n",
    "    def talk(self):\n",
    "        print(\"Meow Meow Meow Meow.\")\n",
    "\n",
    "\n",
    "\n",
    "def myfun(obj):\n",
    "    if hasattr(obj,'walk'):\n",
    "        obj.walk()\n",
    "    if hasattr(obj,'talk'):\n",
    "        obj.talk()\n",
    "\n",
    "if __name__==\"__main__\":\n",
    "    obj = Duck()\n",
    "    c=Cat()\n",
    "    myfun(obj)\n",
    "    myfun(c)"
   ]
  },
  {
   "cell_type": "code",
   "execution_count": 11,
   "metadata": {},
   "outputs": [
    {
     "name": "stdout",
     "output_type": "stream",
     "text": [
      "Addition of two number is : 30\n",
      "Multiplication of number is : 200\n"
     ]
    }
   ],
   "source": [
    "# Method Overriding\n",
    "\n",
    "class Addition:\n",
    "    def result(self,a,b):\n",
    "        print(f\"Addition of two number is : {a+b}\")\n",
    "\n",
    "class Multiplication(Addition):\n",
    "    def result(self, a, b):\n",
    "        super().result(a,b)\n",
    "        print(f\"Multiplication of number is : {a*b}\")\n",
    "\n",
    "obj = Multiplication()\n",
    "obj.result(10,20)\n"
   ]
  },
  {
   "cell_type": "markdown",
   "metadata": {},
   "source": [
    "### Abstract Class\n",
    "- ***A class derived from ABC class which belong to abc module, is know as abstarct class in python.***\n",
    "- ***ABC Class is known as Meta Class which means a class that defines the behaviour of other classes. So we can say, Meta Class ABC defines that the class which is derived from it becomes an abstract class.***\n",
    "- ***Abstract Class can have abstract method and concrete methods.***\n",
    "- ***PVM can not create objects of an abstract class.***\n",
    "- ***It is not necessary to declare all methods abstract in a abstract class***\n",
    "- ***Abstract Class can have abstract method and concrete methods.***\n",
    "- ***If there is any abstract method in a class, that class must be abstract.***\n",
    "- ***The abstract methods of an abstarct class must be defined in its child class/subclass.***\n",
    "\n",
    "- ```from abc import ABC, abstractmethod```"
   ]
  },
  {
   "cell_type": "code",
   "execution_count": 12,
   "metadata": {},
   "outputs": [
    {
     "name": "stdout",
     "output_type": "stream",
     "text": [
      "Child Class\n",
      "Defining Abstarct Method.\n",
      "Concrete Method\n"
     ]
    }
   ],
   "source": [
    "# Implementation\n",
    "from abc import ABC,abstractclassmethod\n",
    "\n",
    "class Father(ABC):\n",
    "    @abstractclassmethod\n",
    "    def disp(self):\n",
    "        pass \n",
    "\n",
    "    def show(self):\n",
    "        print(\"Concrete Method\")\n",
    "\n",
    "class Child(Father):\n",
    "    def disp(self):\n",
    "        print(\"Child Class\")\n",
    "        print(\"Defining Abstarct Method.\")\n",
    "\n",
    "c = Child()\n",
    "c.disp()\n",
    "c.show()"
   ]
  },
  {
   "cell_type": "code",
   "execution_count": null,
   "metadata": {},
   "outputs": [],
   "source": []
  }
 ],
 "metadata": {
  "kernelspec": {
   "display_name": "Python 3",
   "language": "python",
   "name": "python3"
  },
  "language_info": {
   "codemirror_mode": {
    "name": "ipython",
    "version": 3
   },
   "file_extension": ".py",
   "mimetype": "text/x-python",
   "name": "python",
   "nbconvert_exporter": "python",
   "pygments_lexer": "ipython3",
   "version": "3.12.0"
  }
 },
 "nbformat": 4,
 "nbformat_minor": 2
}
